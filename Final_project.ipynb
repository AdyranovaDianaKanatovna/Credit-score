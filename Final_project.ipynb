{
 "cells": [
  {
   "cell_type": "markdown",
   "metadata": {
    "id": "fdX7YGIOcuPb"
   },
   "source": [
    "# Machine Learning and its Application for Finance \n",
    "# Final project \n",
    "# Adyranova Diana Kanatovna \n",
    "# CreditScore  predicting and evaluation"
   ]
  },
  {
   "cell_type": "markdown",
   "metadata": {
    "id": "HzMb6qV7cuPc"
   },
   "source": [
    "# Transactional data to predicting the creditscore\n",
    "Creditworthiness is currently very important to everyone as it is perceived as a measure of the reliability of a person. In different cases, service providers first need to assess the credit history of customers and then determine whether or not they can deliver the service. Testing the entire private portfolios and producing a credit report manually, however is time-consuming. Thus, since it is time-saving and readily understandable, the credit score is generated and implemented for this purpose. \n",
    "Credit scoring is called the method of creating the credit value. It is widely used particularly in banking in many industries. Banks normally use it to decide who should receive credit, how much credit should be earned and how operationally the risk is minimized. Two major sections are usually contained: \n",
    "* Statistical Model Design \n",
    "* Apply a statistic model to assign a score to an existing credit application or account\n",
    "\n",
    "\n",
    "Let's imagine that one bank evaluates the data of all future clients with instructions to analyze\n",
    "their credit history with personal data. Based on the evaluation and predicting on the python program, it will be known which client is better to provide a loan.\n",
    "My aim of the project to build the model for bank which expect to receive the data about clients for whom the bank can provide a credit and to whom not.\n",
    "My main motivation of this to practice the new skills from machine learning course.The dataset has been founded in internet and consist of one CSV file.\n",
    "The transactional dataset consists of the private information of 4446 bank's clients. \n",
    "\n",
    "The file dataset is as follow:\n",
    "* Creditscore (CreditScore.csv)\n",
    "\n",
    "\n",
    "The following resources were used to create this project:\n",
    "* [intro to credit scorecard](https://towardsdatascience.com/intro-to-credit-scorecard-9afeaaa3725f)\n",
    "* [credit risk model and scorecard](https://towardsdatascience.com/how-to-develop-a-credit-risk-model-and-scorecard-91335fc01f03)    \n",
    "* [building credit scorecards using statistical methods and business-logic](https://blogs.sas.com/content/subconsciousmusings/2019/01/18/building-credit-scorecards-using-statistical-methods-and-business-logic/)\n",
    "* [how to score your credit](https://medium.com/henry-jia/how-to-score-your-credit-1c08dd73e2ed)\n",
    "* [my credit scoring model](https://www.kaggle.com/ajay1735/my-credit-scoring-model)"
   ]
  },
  {
   "cell_type": "markdown",
   "metadata": {
    "id": "n7toUeghcuPc"
   },
   "source": [
    "# Hypotheses of project: \n",
    "1. Alternate - As a feature selection algorithm, Trees and K-mean can improve the accuracy and efficiency of the credit score \n",
    "prediction model.\n",
    "\n",
    "2. Null - As a function selection algorithm, Trees and K-mean one of these approaches would not enhance the accuracy and efficiency of\n",
    "the credit score prediction model.\n",
    "3. The credit will be approved if it is good (1)\n",
    "\n",
    "4. The credit won't be approved if it is bad (0)\n",
    "\n",
    "5. Correlation analysis of variables"
   ]
  },
  {
   "cell_type": "markdown",
   "metadata": {
    "id": "opH7A4PNcuPc"
   },
   "source": [
    "# CreditScore description \n",
    "I will now offer some information on how to build a scorecard. \n",
    "The first variable is a categorical binary target variable. And the other variables are the characteristics."
   ]
  },
  {
   "cell_type": "markdown",
   "metadata": {
    "id": "k4kcgRJHcuPc"
   },
   "source": [
    "## Loading the  file csv data "
   ]
  },
  {
   "cell_type": "code",
   "execution_count": 42,
   "metadata": {
    "colab": {
     "base_uri": "https://localhost:8080/",
     "height": 610
    },
    "id": "82-9Z2sycuPc",
    "outputId": "1bc9f76f-37de-4226-c2b3-51a96dc19afb"
   },
   "outputs": [
    {
     "name": "stdout",
     "output_type": "stream",
     "text": [
      "     Status  Seniority   Home  Time  Age  Marital  Records        Job  \\\n",
      "0      good          9   rent    60   30  married   no_rec  freelance   \n",
      "1      good         17   rent    60   58    widow   no_rec      fixed   \n",
      "2       bad         10  owner    36   46  married  yes_rec  freelance   \n",
      "3      good          0   rent    60   24   single   no_rec      fixed   \n",
      "4      good          0   rent    36   26   single   no_rec      fixed   \n",
      "...     ...        ...    ...   ...  ...      ...      ...        ...   \n",
      "4441    bad          1   rent    60   39  married   no_rec      fixed   \n",
      "4442   good         22  owner    60   46  married   no_rec      fixed   \n",
      "4443    bad          0  owner    24   37  married   no_rec    partime   \n",
      "4444   good          0   rent    48   23   single   no_rec  freelance   \n",
      "4445   good          5  owner    60   32  married   no_rec  freelance   \n",
      "\n",
      "      Expenses  Income  Assets  Debt  Amount  Price  \n",
      "0           73     129       0     0     800    846  \n",
      "1           48     131       0     0    1000   1658  \n",
      "2           90     200    3000     0    2000   2985  \n",
      "3           63     182    2500     0     900   1325  \n",
      "4           46     107       0     0     310    910  \n",
      "...        ...     ...     ...   ...     ...    ...  \n",
      "4441        69      92       0     0     900   1020  \n",
      "4442        60      75    3000   600     950   1263  \n",
      "4443        60      90    3500     0     500    963  \n",
      "4444        49     140       0     0     550    550  \n",
      "4445        60     140    4000  1000    1350   1650  \n",
      "\n",
      "[4446 rows x 14 columns]\n"
     ]
    },
    {
     "data": {
      "text/plain": [
       "(array([1.333e+03, 2.301e+03, 5.860e+02, 1.530e+02, 4.500e+01, 1.700e+01,\n",
       "        2.000e+00, 4.000e+00, 3.000e+00, 2.000e+00]),\n",
       " array([  1. ,  96.8, 192.6, 288.4, 384.2, 480. , 575.8, 671.6, 767.4,\n",
       "        863.2, 959. ]),\n",
       " <a list of 10 Patch objects>)"
      ]
     },
     "execution_count": 42,
     "metadata": {},
     "output_type": "execute_result"
    },
    {
     "data": {
      "image/png": "[encoded data removed]",
      "text/plain": [
       "<Figure size 432x288 with 1 Axes>"
      ]
     },
     "metadata": {
      "needs_background": "light"
     },
     "output_type": "display_data"
    }
   ],
   "source": [
    "# Short description our credits showing the data from income.The table shows that the approximate income from each client varies from 100 to 200\n",
    "# Code to read csv file into python:\n",
    "import matplotlib.pyplot as plt\n",
    "import pandas as pd\n",
    "# Load the file\n",
    "df = pd.read_csv(\"CreditScore.csv\")\n",
    "print(df)\n",
    "\n",
    "plt.hist(df['Income'])\n"
   ]
  },
  {
   "cell_type": "code",
   "execution_count": null,
   "metadata": {},
   "outputs": [],
   "source": [
    "# Income \n",
    "Our income from clients is: \n",
    "* 0 - 1. \n",
    "* 100-96.8\n",
    "* 200-192.6\n",
    "* 300-288.4\n",
    "* 400- 384.2\n",
    "* 500-480.\n",
    "* 600- 575.8"
   ]
  },
  {
   "cell_type": "code",
   "execution_count": 43,
   "metadata": {
    "colab": {
     "base_uri": "https://localhost:8080/",
     "height": 337
    },
    "id": "dP5vdVSThoak",
    "outputId": "7a3148dc-cd54-4320-a7ae-8dc8515592b0"
   },
   "outputs": [
    {
     "data": {
      "text/plain": [
       "(array([ 973.,    0., 2106.,    0.,  782.,    0.,  246.,    0.,  319.,\n",
       "          20.]),\n",
       " array([0. , 0.5, 1. , 1.5, 2. , 2.5, 3. , 3.5, 4. , 4.5, 5. ]),\n",
       " <a list of 10 Patch objects>)"
      ]
     },
     "execution_count": 43,
     "metadata": {},
     "output_type": "execute_result"
    },
    {
     "data": {
      "image/png": "[encoded data removed]",
      "text/plain": [
       "<Figure size 432x288 with 1 Axes>"
      ]
     },
     "metadata": {
      "needs_background": "light"
     },
     "output_type": "display_data"
    }
   ],
   "source": [
    "# the table shows the properties of the assessed clients where we can see most of the clients are homeowners. \n",
    "plt.hist(df['Home'])\n"
   ]
  },
  {
   "cell_type": "code",
   "execution_count": null,
   "metadata": {},
   "outputs": [],
   "source": [
    "# Home \n",
    "the table provides statistical information about the status of our clients' property:\n",
    "* rent - 973\n",
    "* owner -2106\n",
    "* parents - 782\n",
    "* priv - 246\n",
    "* other - 319 \n",
    "* ignore - 20"
   ]
  },
  {
   "cell_type": "code",
   "execution_count": 44,
   "metadata": {
    "colab": {
     "base_uri": "https://localhost:8080/",
     "height": 337
    },
    "id": "9YAT7hSahtkM",
    "outputId": "21c10357-e1c6-46fc-b776-ee287f1cfbec"
   },
   "outputs": [
    {
     "data": {
      "text/plain": [
       "(array([3197.,    0.,    0.,    0.,    0.,    0.,    0.,    0.,    0.,\n",
       "        1249.]),\n",
       " array([0. , 0.1, 0.2, 0.3, 0.4, 0.5, 0.6, 0.7, 0.8, 0.9, 1. ]),\n",
       " <a list of 10 Patch objects>)"
      ]
     },
     "execution_count": 44,
     "metadata": {},
     "output_type": "execute_result"
    },
    {
     "data": {
      "image/png": "[encoded data removed]",
      "text/plain": [
       "<Figure size 432x288 with 1 Axes>"
      ]
     },
     "metadata": {
      "needs_background": "light"
     },
     "output_type": "display_data"
    }
   ],
   "source": [
    "# According to these tables, we can say that more satisfactory results 3197 prevail in our data\n",
    "plt.hist(df['Status'])\n"
   ]
  },
  {
   "cell_type": "code",
   "execution_count": null,
   "metadata": {},
   "outputs": [],
   "source": [
    "# Status\n",
    "the status table provides us with statistical information on granting a loan:\n",
    "* Goog -3197\n",
    "* Bad - 1249\n"
   ]
  },
  {
   "cell_type": "code",
   "execution_count": 45,
   "metadata": {
    "colab": {
     "base_uri": "https://localhost:8080/",
     "height": 301
    },
    "id": "jKrMNpLdhxJd",
    "outputId": "0814a35b-9109-42a0-ba8f-a8b5496076a6"
   },
   "outputs": [
    {
     "name": "stdout",
     "output_type": "stream",
     "text": [
      "37.084120557804766\n",
      "10.986365810669367\n"
     ]
    },
    {
     "data": {
      "image/png": "[encoded data removed]",
      "text/plain": [
       "<Figure size 432x288 with 1 Axes>"
      ]
     },
     "metadata": {
      "needs_background": "light"
     },
     "output_type": "display_data"
    }
   ],
   "source": [
    "plt.hist(x = df['Age'])\n",
    "print(df['Age'].mean())\n",
    "print(df['Age'].std())\n"
   ]
  },
  {
   "cell_type": "code",
   "execution_count": null,
   "metadata": {},
   "outputs": [],
   "source": [
    "# Age \n",
    "age table compiles statistical information on the ages  mean of clients who apply for a loan:\n",
    "* 37"
   ]
  },
  {
   "cell_type": "markdown",
   "metadata": {
    "id": "iyB4osQvcuPc"
   },
   "source": [
    "# Exploratory data analysis (charts, correlations, statistical tests)"
   ]
  },
  {
   "cell_type": "markdown",
   "metadata": {
    "id": "5GhSOGrIcuPc"
   },
   "source": [
    "## For a quick calculation, I will reduce our data to 1000 person using the code random.seed().\n",
    "My variables:\n",
    "* Status - loan status\n",
    "* Seniority - work experience in years \n",
    "* Home - owners (type) of housing \n",
    "* Time - terms of the requested loan\n",
    "* Age - age\n",
    "* Marital - family status\n",
    "* Records - is there any previous information on debts\n",
    "* Job - type of employment\n",
    "* Expenses - spending \n",
    "* Income - profit \n",
    "* Assets - property\n",
    "* Debt - debt \n",
    "* Amount - the amount of the requested loan\n",
    "* Price -  the price of the goods for the purchase of which the loan is requested"
   ]
  },
  {
   "cell_type": "code",
   "execution_count": 46,
   "metadata": {
    "colab": {
     "base_uri": "https://localhost:8080/"
    },
    "id": "yFw2NfORcuPc",
    "outputId": "be403c07-e372-49ec-a294-62189adc0094"
   },
   "outputs": [
    {
     "name": "stdout",
     "output_type": "stream",
     "text": [
      "     Status  Seniority     Home  Time  Age  Marital Records        Job  \\\n",
      "3575   good         20    owner    48   60  married  no_rec  freelance   \n",
      "2996    bad          7     rent    48   43  married  no_rec      fixed   \n",
      "44     good          1  parents    60   26   single  no_rec    partime   \n",
      "2118   good          7  parents    30   29   single  no_rec      fixed   \n",
      "909    good         15     rent    60   42  married  no_rec      fixed   \n",
      "\n",
      "      Expenses  Income  Assets  Debt  Amount  Price  \n",
      "3575        35     142   12000     0     500   1154  \n",
      "2996        44      92       0     0    1300   1653  \n",
      "44          35     120       0     0    1150   1300  \n",
      "2118        35     250    3500     0     500   1634  \n",
      "909         58     130       0     0    1000   1308  \n"
     ]
    }
   ],
   "source": [
    "import random\n",
    "random.seed(1000)\n",
    "\n",
    "import pandas as pd\n",
    "\n",
    "credit = df.sample(n=1000, random_state=1)\n",
    "print(credit.head())\n",
    "\n",
    "\n"
   ]
  },
  {
   "cell_type": "markdown",
   "metadata": {
    "id": "zVeKct0CcuPd"
   },
   "source": [
    "## Because I didn't have the m pip install sklear, I uploaded to  interpret my string data (i.e. Status) into numbers.\n",
    "The conversion of string data into digital was necessary for the convenience of predicting the most accurate predictions in subsequent methods\n",
    "Data pipelines assist the automation flow of common steps in manual data science. For a number of transformations over either continuous or nominal characteristics, this action set may create broad data pipelines. \n",
    "For building a single pipeline, there are just a few steps: \n",
    "* Assign the functions to variables\n",
    "* Create transformations of variables\n",
    "* Add transformations to be applied to data later\n",
    "\n",
    "My dataset has the column “Status” including the two variables named good and bad.\n",
    "It's mean the Status row will have data which look like good or bad after coding it's will look like: \n",
    " * 1 - good \n",
    " * 0 - bad\n",
    "    \n",
    "It was necessary for building graphs, charts and calculating statistics with subsequent evaluation and predicting.\n",
    "\n"
   ]
  },
  {
   "cell_type": "code",
   "execution_count": 19,
   "metadata": {
    "id": "oBD0-sfzcuPd",
    "outputId": "386144d0-d918-4a46-afa4-369a44fb27d1"
   },
   "outputs": [
    {
     "name": "stdout",
     "output_type": "stream",
     "text": [
      "Requirement already satisfied: sklearn in d:\\python\\lib\\site-packages (0.0)\n",
      "Requirement already satisfied: scikit-learn in d:\\python\\lib\\site-packages (from sklearn) (0.23.1)\n",
      "Requirement already satisfied: numpy>=1.13.3 in d:\\python\\lib\\site-packages (from scikit-learn->sklearn) (1.18.5)\n",
      "Requirement already satisfied: scipy>=0.19.1 in d:\\python\\lib\\site-packages (from scikit-learn->sklearn) (1.5.0)\n",
      "Requirement already satisfied: joblib>=0.11 in d:\\python\\lib\\site-packages (from scikit-learn->sklearn) (0.16.0)\n",
      "Requirement already satisfied: threadpoolctl>=2.0.0 in d:\\python\\lib\\site-packages (from scikit-learn->sklearn) (2.1.0)\n"
     ]
    }
   ],
   "source": [
    "import sys\n",
    "!{sys.executable} -m pip install sklearn\n"
   ]
  },
  {
   "cell_type": "code",
   "execution_count": 47,
   "metadata": {
    "colab": {
     "base_uri": "https://localhost:8080/"
    },
    "id": "XF1OkTHOcuPd",
    "outputId": "29bd7327-535d-4fce-ba00-16cde252df83"
   },
   "outputs": [
    {
     "name": "stdout",
     "output_type": "stream",
     "text": [
      "Index(['Status', 'Seniority', 'Home', 'Time', 'Age', 'Marital', 'Records',\n",
      "       'Job', 'Expenses', 'Income', 'Assets', 'Debt', 'Amount', 'Price'],\n",
      "      dtype='object')\n",
      "      Status  Seniority  Home  Time  Age  Marital  Records  Job  Expenses  \\\n",
      "3575       1         20     2    48   60        1        0    1        35   \n",
      "2996       0          7     5    48   43        1        0    0        44   \n",
      "44         1          1     3    60   26        3        0    3        35   \n",
      "2118       1          7     3    30   29        3        0    0        35   \n",
      "909        1         15     5    60   42        1        0    0        58   \n",
      "\n",
      "      Income  Assets  Debt  Amount  Price  \n",
      "3575     142   12000     0     500   1154  \n",
      "2996      92       0     0    1300   1653  \n",
      "44       120       0     0    1150   1300  \n",
      "2118     250    3500     0     500   1634  \n",
      "909      130       0     0    1000   1308  \n"
     ]
    }
   ],
   "source": [
    "# This is my result after using the code\n",
    "print(credit.columns)\n",
    "from sklearn.preprocessing import LabelEncoder\n",
    "lb_make = LabelEncoder()\n",
    "cols = credit.columns\n",
    "for i in cols:\n",
    "    if isinstance(credit[i][1], str):\n",
    "        lb_make = LabelEncoder()\n",
    "        credit[i] = lb_make.fit_transform(credit[i])\n",
    "\n",
    "\n",
    "print(credit.head())"
   ]
  },
  {
   "cell_type": "markdown",
   "metadata": {
    "id": "lHo0zYUjcuPd"
   },
   "source": [
    "## I am using two different codes for data validation."
   ]
  },
  {
   "cell_type": "code",
   "execution_count": 48,
   "metadata": {
    "id": "Wx7poHNxcuPd"
   },
   "outputs": [],
   "source": [
    "## Check if data is loaded\n",
    "dfs = dict()\n",
    "dfs[\"CreditScore.csv\"] = pd.read_csv('CreditScore.csv')"
   ]
  },
  {
   "cell_type": "code",
   "execution_count": 49,
   "metadata": {
    "colab": {
     "base_uri": "https://localhost:8080/"
    },
    "id": "5Ut4-ZSRcuPd",
    "outputId": "9f6b0af0-1b3f-4388-f104-fea0970885b0"
   },
   "outputs": [
    {
     "name": "stdout",
     "output_type": "stream",
     "text": [
      "<class 'pandas.core.frame.DataFrame'>\n",
      "RangeIndex: 4446 entries, 0 to 4445\n",
      "Data columns (total 14 columns):\n",
      " #   Column     Non-Null Count  Dtype \n",
      "---  ------     --------------  ----- \n",
      " 0   Status     4446 non-null   object\n",
      " 1   Seniority  4446 non-null   int64 \n",
      " 2   Home       4446 non-null   object\n",
      " 3   Time       4446 non-null   int64 \n",
      " 4   Age        4446 non-null   int64 \n",
      " 5   Marital    4446 non-null   object\n",
      " 6   Records    4446 non-null   object\n",
      " 7   Job        4446 non-null   object\n",
      " 8   Expenses   4446 non-null   int64 \n",
      " 9   Income     4446 non-null   int64 \n",
      " 10  Assets     4446 non-null   int64 \n",
      " 11  Debt       4446 non-null   int64 \n",
      " 12  Amount     4446 non-null   int64 \n",
      " 13  Price      4446 non-null   int64 \n",
      "dtypes: int64(9), object(5)\n",
      "memory usage: 486.4+ KB\n"
     ]
    }
   ],
   "source": [
    "# Number of non-Nanan entries\n",
    "##Data info\n",
    "dfs[\"CreditScore.csv\"].info()"
   ]
  },
  {
   "cell_type": "code",
   "execution_count": 50,
   "metadata": {
    "colab": {
     "base_uri": "https://localhost:8080/",
     "height": 407
    },
    "id": "1LTVJLSbcuPd",
    "outputId": "dd4cae50-25fc-4371-ed7b-ec9f186dee7a"
   },
   "outputs": [
    {
     "data": {
      "text/html": [
       "<div>\n",
       "<style scoped>\n",
       "    .dataframe tbody tr th:only-of-type {\n",
       "        vertical-align: middle;\n",
       "    }\n",
       "\n",
       "    .dataframe tbody tr th {\n",
       "        vertical-align: top;\n",
       "    }\n",
       "\n",
       "    .dataframe thead th {\n",
       "        text-align: right;\n",
       "    }\n",
       "</style>\n",
       "<table border=\"1\" class=\"dataframe\">\n",
       "  <thead>\n",
       "    <tr style=\"text-align: right;\">\n",
       "      <th></th>\n",
       "      <th>Status</th>\n",
       "      <th>Seniority</th>\n",
       "      <th>Home</th>\n",
       "      <th>Time</th>\n",
       "      <th>Age</th>\n",
       "      <th>Marital</th>\n",
       "      <th>Records</th>\n",
       "      <th>Job</th>\n",
       "      <th>Expenses</th>\n",
       "      <th>Income</th>\n",
       "      <th>Assets</th>\n",
       "      <th>Debt</th>\n",
       "      <th>Amount</th>\n",
       "      <th>Price</th>\n",
       "    </tr>\n",
       "  </thead>\n",
       "  <tbody>\n",
       "    <tr>\n",
       "      <th>0</th>\n",
       "      <td>good</td>\n",
       "      <td>9</td>\n",
       "      <td>rent</td>\n",
       "      <td>60</td>\n",
       "      <td>30</td>\n",
       "      <td>married</td>\n",
       "      <td>no_rec</td>\n",
       "      <td>freelance</td>\n",
       "      <td>73</td>\n",
       "      <td>129</td>\n",
       "      <td>0</td>\n",
       "      <td>0</td>\n",
       "      <td>800</td>\n",
       "      <td>846</td>\n",
       "    </tr>\n",
       "    <tr>\n",
       "      <th>1</th>\n",
       "      <td>good</td>\n",
       "      <td>17</td>\n",
       "      <td>rent</td>\n",
       "      <td>60</td>\n",
       "      <td>58</td>\n",
       "      <td>widow</td>\n",
       "      <td>no_rec</td>\n",
       "      <td>fixed</td>\n",
       "      <td>48</td>\n",
       "      <td>131</td>\n",
       "      <td>0</td>\n",
       "      <td>0</td>\n",
       "      <td>1000</td>\n",
       "      <td>1658</td>\n",
       "    </tr>\n",
       "    <tr>\n",
       "      <th>2</th>\n",
       "      <td>bad</td>\n",
       "      <td>10</td>\n",
       "      <td>owner</td>\n",
       "      <td>36</td>\n",
       "      <td>46</td>\n",
       "      <td>married</td>\n",
       "      <td>yes_rec</td>\n",
       "      <td>freelance</td>\n",
       "      <td>90</td>\n",
       "      <td>200</td>\n",
       "      <td>3000</td>\n",
       "      <td>0</td>\n",
       "      <td>2000</td>\n",
       "      <td>2985</td>\n",
       "    </tr>\n",
       "    <tr>\n",
       "      <th>3</th>\n",
       "      <td>good</td>\n",
       "      <td>0</td>\n",
       "      <td>rent</td>\n",
       "      <td>60</td>\n",
       "      <td>24</td>\n",
       "      <td>single</td>\n",
       "      <td>no_rec</td>\n",
       "      <td>fixed</td>\n",
       "      <td>63</td>\n",
       "      <td>182</td>\n",
       "      <td>2500</td>\n",
       "      <td>0</td>\n",
       "      <td>900</td>\n",
       "      <td>1325</td>\n",
       "    </tr>\n",
       "    <tr>\n",
       "      <th>4</th>\n",
       "      <td>good</td>\n",
       "      <td>0</td>\n",
       "      <td>rent</td>\n",
       "      <td>36</td>\n",
       "      <td>26</td>\n",
       "      <td>single</td>\n",
       "      <td>no_rec</td>\n",
       "      <td>fixed</td>\n",
       "      <td>46</td>\n",
       "      <td>107</td>\n",
       "      <td>0</td>\n",
       "      <td>0</td>\n",
       "      <td>310</td>\n",
       "      <td>910</td>\n",
       "    </tr>\n",
       "    <tr>\n",
       "      <th>...</th>\n",
       "      <td>...</td>\n",
       "      <td>...</td>\n",
       "      <td>...</td>\n",
       "      <td>...</td>\n",
       "      <td>...</td>\n",
       "      <td>...</td>\n",
       "      <td>...</td>\n",
       "      <td>...</td>\n",
       "      <td>...</td>\n",
       "      <td>...</td>\n",
       "      <td>...</td>\n",
       "      <td>...</td>\n",
       "      <td>...</td>\n",
       "      <td>...</td>\n",
       "    </tr>\n",
       "    <tr>\n",
       "      <th>995</th>\n",
       "      <td>good</td>\n",
       "      <td>13</td>\n",
       "      <td>owner</td>\n",
       "      <td>60</td>\n",
       "      <td>42</td>\n",
       "      <td>married</td>\n",
       "      <td>no_rec</td>\n",
       "      <td>fixed</td>\n",
       "      <td>60</td>\n",
       "      <td>107</td>\n",
       "      <td>4000</td>\n",
       "      <td>0</td>\n",
       "      <td>1000</td>\n",
       "      <td>1359</td>\n",
       "    </tr>\n",
       "    <tr>\n",
       "      <th>996</th>\n",
       "      <td>good</td>\n",
       "      <td>0</td>\n",
       "      <td>owner</td>\n",
       "      <td>36</td>\n",
       "      <td>54</td>\n",
       "      <td>married</td>\n",
       "      <td>no_rec</td>\n",
       "      <td>others</td>\n",
       "      <td>45</td>\n",
       "      <td>134</td>\n",
       "      <td>2500</td>\n",
       "      <td>0</td>\n",
       "      <td>625</td>\n",
       "      <td>801</td>\n",
       "    </tr>\n",
       "    <tr>\n",
       "      <th>997</th>\n",
       "      <td>bad</td>\n",
       "      <td>2</td>\n",
       "      <td>rent</td>\n",
       "      <td>60</td>\n",
       "      <td>24</td>\n",
       "      <td>single</td>\n",
       "      <td>no_rec</td>\n",
       "      <td>fixed</td>\n",
       "      <td>35</td>\n",
       "      <td>81</td>\n",
       "      <td>0</td>\n",
       "      <td>0</td>\n",
       "      <td>850</td>\n",
       "      <td>989</td>\n",
       "    </tr>\n",
       "    <tr>\n",
       "      <th>998</th>\n",
       "      <td>good</td>\n",
       "      <td>21</td>\n",
       "      <td>rent</td>\n",
       "      <td>60</td>\n",
       "      <td>39</td>\n",
       "      <td>married</td>\n",
       "      <td>no_rec</td>\n",
       "      <td>fixed</td>\n",
       "      <td>124</td>\n",
       "      <td>191</td>\n",
       "      <td>2000</td>\n",
       "      <td>0</td>\n",
       "      <td>2000</td>\n",
       "      <td>2536</td>\n",
       "    </tr>\n",
       "    <tr>\n",
       "      <th>999</th>\n",
       "      <td>bad</td>\n",
       "      <td>0</td>\n",
       "      <td>owner</td>\n",
       "      <td>60</td>\n",
       "      <td>48</td>\n",
       "      <td>married</td>\n",
       "      <td>no_rec</td>\n",
       "      <td>partime</td>\n",
       "      <td>75</td>\n",
       "      <td>100</td>\n",
       "      <td>7000</td>\n",
       "      <td>0</td>\n",
       "      <td>1000</td>\n",
       "      <td>1129</td>\n",
       "    </tr>\n",
       "  </tbody>\n",
       "</table>\n",
       "<p>1000 rows × 14 columns</p>\n",
       "</div>"
      ],
      "text/plain": [
       "    Status  Seniority   Home  Time  Age  Marital  Records        Job  \\\n",
       "0     good          9   rent    60   30  married   no_rec  freelance   \n",
       "1     good         17   rent    60   58    widow   no_rec      fixed   \n",
       "2      bad         10  owner    36   46  married  yes_rec  freelance   \n",
       "3     good          0   rent    60   24   single   no_rec      fixed   \n",
       "4     good          0   rent    36   26   single   no_rec      fixed   \n",
       "..     ...        ...    ...   ...  ...      ...      ...        ...   \n",
       "995   good         13  owner    60   42  married   no_rec      fixed   \n",
       "996   good          0  owner    36   54  married   no_rec     others   \n",
       "997    bad          2   rent    60   24   single   no_rec      fixed   \n",
       "998   good         21   rent    60   39  married   no_rec      fixed   \n",
       "999    bad          0  owner    60   48  married   no_rec    partime   \n",
       "\n",
       "     Expenses  Income  Assets  Debt  Amount  Price  \n",
       "0          73     129       0     0     800    846  \n",
       "1          48     131       0     0    1000   1658  \n",
       "2          90     200    3000     0    2000   2985  \n",
       "3          63     182    2500     0     900   1325  \n",
       "4          46     107       0     0     310    910  \n",
       "..        ...     ...     ...   ...     ...    ...  \n",
       "995        60     107    4000     0    1000   1359  \n",
       "996        45     134    2500     0     625    801  \n",
       "997        35      81       0     0     850    989  \n",
       "998       124     191    2000     0    2000   2536  \n",
       "999        75     100    7000     0    1000   1129  \n",
       "\n",
       "[1000 rows x 14 columns]"
      ]
     },
     "execution_count": 50,
     "metadata": {},
     "output_type": "execute_result"
    }
   ],
   "source": [
    "# Checking data in tabulated form with limits 1000\n",
    "dfs[\"CreditScore.csv\"].head(1000)"
   ]
  },
  {
   "cell_type": "code",
   "execution_count": 51,
   "metadata": {
    "id": "n6zkin0TcuPd",
    "outputId": "79a7b495-96ad-4493-9d7f-a6ffc19cc755"
   },
   "outputs": [
    {
     "data": {
      "text/plain": [
       "Status       0\n",
       "Seniority    0\n",
       "Home         0\n",
       "Time         0\n",
       "Age          0\n",
       "Marital      0\n",
       "Records      0\n",
       "Job          0\n",
       "Expenses     0\n",
       "Income       0\n",
       "Assets       0\n",
       "Debt         0\n",
       "Amount       0\n",
       "Price        0\n",
       "dtype: int64"
      ]
     },
     "execution_count": 51,
     "metadata": {},
     "output_type": "execute_result"
    }
   ],
   "source": [
    "#Checking for missing data in dataframe\n",
    "df.isnull().sum()"
   ]
  },
  {
   "cell_type": "code",
   "execution_count": 52,
   "metadata": {
    "id": "Zop3Ftu8cuPd"
   },
   "outputs": [],
   "source": [
    "# Checking data in tabulated form without limits\n",
    "sample_data = pd.read_csv('CreditScore.csv')"
   ]
  },
  {
   "cell_type": "code",
   "execution_count": 53,
   "metadata": {
    "colab": {
     "base_uri": "https://localhost:8080/",
     "height": 407
    },
    "id": "hJW1m40ccuPd",
    "outputId": "b24bb8bb-3372-40d6-8ef5-b41da4c1c7b0"
   },
   "outputs": [
    {
     "data": {
      "text/html": [
       "<div>\n",
       "<style scoped>\n",
       "    .dataframe tbody tr th:only-of-type {\n",
       "        vertical-align: middle;\n",
       "    }\n",
       "\n",
       "    .dataframe tbody tr th {\n",
       "        vertical-align: top;\n",
       "    }\n",
       "\n",
       "    .dataframe thead th {\n",
       "        text-align: right;\n",
       "    }\n",
       "</style>\n",
       "<table border=\"1\" class=\"dataframe\">\n",
       "  <thead>\n",
       "    <tr style=\"text-align: right;\">\n",
       "      <th></th>\n",
       "      <th>Status</th>\n",
       "      <th>Seniority</th>\n",
       "      <th>Home</th>\n",
       "      <th>Time</th>\n",
       "      <th>Age</th>\n",
       "      <th>Marital</th>\n",
       "      <th>Records</th>\n",
       "      <th>Job</th>\n",
       "      <th>Expenses</th>\n",
       "      <th>Income</th>\n",
       "      <th>Assets</th>\n",
       "      <th>Debt</th>\n",
       "      <th>Amount</th>\n",
       "      <th>Price</th>\n",
       "    </tr>\n",
       "  </thead>\n",
       "  <tbody>\n",
       "    <tr>\n",
       "      <th>0</th>\n",
       "      <td>good</td>\n",
       "      <td>9</td>\n",
       "      <td>rent</td>\n",
       "      <td>60</td>\n",
       "      <td>30</td>\n",
       "      <td>married</td>\n",
       "      <td>no_rec</td>\n",
       "      <td>freelance</td>\n",
       "      <td>73</td>\n",
       "      <td>129</td>\n",
       "      <td>0</td>\n",
       "      <td>0</td>\n",
       "      <td>800</td>\n",
       "      <td>846</td>\n",
       "    </tr>\n",
       "    <tr>\n",
       "      <th>1</th>\n",
       "      <td>good</td>\n",
       "      <td>17</td>\n",
       "      <td>rent</td>\n",
       "      <td>60</td>\n",
       "      <td>58</td>\n",
       "      <td>widow</td>\n",
       "      <td>no_rec</td>\n",
       "      <td>fixed</td>\n",
       "      <td>48</td>\n",
       "      <td>131</td>\n",
       "      <td>0</td>\n",
       "      <td>0</td>\n",
       "      <td>1000</td>\n",
       "      <td>1658</td>\n",
       "    </tr>\n",
       "    <tr>\n",
       "      <th>2</th>\n",
       "      <td>bad</td>\n",
       "      <td>10</td>\n",
       "      <td>owner</td>\n",
       "      <td>36</td>\n",
       "      <td>46</td>\n",
       "      <td>married</td>\n",
       "      <td>yes_rec</td>\n",
       "      <td>freelance</td>\n",
       "      <td>90</td>\n",
       "      <td>200</td>\n",
       "      <td>3000</td>\n",
       "      <td>0</td>\n",
       "      <td>2000</td>\n",
       "      <td>2985</td>\n",
       "    </tr>\n",
       "    <tr>\n",
       "      <th>3</th>\n",
       "      <td>good</td>\n",
       "      <td>0</td>\n",
       "      <td>rent</td>\n",
       "      <td>60</td>\n",
       "      <td>24</td>\n",
       "      <td>single</td>\n",
       "      <td>no_rec</td>\n",
       "      <td>fixed</td>\n",
       "      <td>63</td>\n",
       "      <td>182</td>\n",
       "      <td>2500</td>\n",
       "      <td>0</td>\n",
       "      <td>900</td>\n",
       "      <td>1325</td>\n",
       "    </tr>\n",
       "    <tr>\n",
       "      <th>4</th>\n",
       "      <td>good</td>\n",
       "      <td>0</td>\n",
       "      <td>rent</td>\n",
       "      <td>36</td>\n",
       "      <td>26</td>\n",
       "      <td>single</td>\n",
       "      <td>no_rec</td>\n",
       "      <td>fixed</td>\n",
       "      <td>46</td>\n",
       "      <td>107</td>\n",
       "      <td>0</td>\n",
       "      <td>0</td>\n",
       "      <td>310</td>\n",
       "      <td>910</td>\n",
       "    </tr>\n",
       "    <tr>\n",
       "      <th>...</th>\n",
       "      <td>...</td>\n",
       "      <td>...</td>\n",
       "      <td>...</td>\n",
       "      <td>...</td>\n",
       "      <td>...</td>\n",
       "      <td>...</td>\n",
       "      <td>...</td>\n",
       "      <td>...</td>\n",
       "      <td>...</td>\n",
       "      <td>...</td>\n",
       "      <td>...</td>\n",
       "      <td>...</td>\n",
       "      <td>...</td>\n",
       "      <td>...</td>\n",
       "    </tr>\n",
       "    <tr>\n",
       "      <th>4441</th>\n",
       "      <td>bad</td>\n",
       "      <td>1</td>\n",
       "      <td>rent</td>\n",
       "      <td>60</td>\n",
       "      <td>39</td>\n",
       "      <td>married</td>\n",
       "      <td>no_rec</td>\n",
       "      <td>fixed</td>\n",
       "      <td>69</td>\n",
       "      <td>92</td>\n",
       "      <td>0</td>\n",
       "      <td>0</td>\n",
       "      <td>900</td>\n",
       "      <td>1020</td>\n",
       "    </tr>\n",
       "    <tr>\n",
       "      <th>4442</th>\n",
       "      <td>good</td>\n",
       "      <td>22</td>\n",
       "      <td>owner</td>\n",
       "      <td>60</td>\n",
       "      <td>46</td>\n",
       "      <td>married</td>\n",
       "      <td>no_rec</td>\n",
       "      <td>fixed</td>\n",
       "      <td>60</td>\n",
       "      <td>75</td>\n",
       "      <td>3000</td>\n",
       "      <td>600</td>\n",
       "      <td>950</td>\n",
       "      <td>1263</td>\n",
       "    </tr>\n",
       "    <tr>\n",
       "      <th>4443</th>\n",
       "      <td>bad</td>\n",
       "      <td>0</td>\n",
       "      <td>owner</td>\n",
       "      <td>24</td>\n",
       "      <td>37</td>\n",
       "      <td>married</td>\n",
       "      <td>no_rec</td>\n",
       "      <td>partime</td>\n",
       "      <td>60</td>\n",
       "      <td>90</td>\n",
       "      <td>3500</td>\n",
       "      <td>0</td>\n",
       "      <td>500</td>\n",
       "      <td>963</td>\n",
       "    </tr>\n",
       "    <tr>\n",
       "      <th>4444</th>\n",
       "      <td>good</td>\n",
       "      <td>0</td>\n",
       "      <td>rent</td>\n",
       "      <td>48</td>\n",
       "      <td>23</td>\n",
       "      <td>single</td>\n",
       "      <td>no_rec</td>\n",
       "      <td>freelance</td>\n",
       "      <td>49</td>\n",
       "      <td>140</td>\n",
       "      <td>0</td>\n",
       "      <td>0</td>\n",
       "      <td>550</td>\n",
       "      <td>550</td>\n",
       "    </tr>\n",
       "    <tr>\n",
       "      <th>4445</th>\n",
       "      <td>good</td>\n",
       "      <td>5</td>\n",
       "      <td>owner</td>\n",
       "      <td>60</td>\n",
       "      <td>32</td>\n",
       "      <td>married</td>\n",
       "      <td>no_rec</td>\n",
       "      <td>freelance</td>\n",
       "      <td>60</td>\n",
       "      <td>140</td>\n",
       "      <td>4000</td>\n",
       "      <td>1000</td>\n",
       "      <td>1350</td>\n",
       "      <td>1650</td>\n",
       "    </tr>\n",
       "  </tbody>\n",
       "</table>\n",
       "<p>4446 rows × 14 columns</p>\n",
       "</div>"
      ],
      "text/plain": [
       "     Status  Seniority   Home  Time  Age  Marital  Records        Job  \\\n",
       "0      good          9   rent    60   30  married   no_rec  freelance   \n",
       "1      good         17   rent    60   58    widow   no_rec      fixed   \n",
       "2       bad         10  owner    36   46  married  yes_rec  freelance   \n",
       "3      good          0   rent    60   24   single   no_rec      fixed   \n",
       "4      good          0   rent    36   26   single   no_rec      fixed   \n",
       "...     ...        ...    ...   ...  ...      ...      ...        ...   \n",
       "4441    bad          1   rent    60   39  married   no_rec      fixed   \n",
       "4442   good         22  owner    60   46  married   no_rec      fixed   \n",
       "4443    bad          0  owner    24   37  married   no_rec    partime   \n",
       "4444   good          0   rent    48   23   single   no_rec  freelance   \n",
       "4445   good          5  owner    60   32  married   no_rec  freelance   \n",
       "\n",
       "      Expenses  Income  Assets  Debt  Amount  Price  \n",
       "0           73     129       0     0     800    846  \n",
       "1           48     131       0     0    1000   1658  \n",
       "2           90     200    3000     0    2000   2985  \n",
       "3           63     182    2500     0     900   1325  \n",
       "4           46     107       0     0     310    910  \n",
       "...        ...     ...     ...   ...     ...    ...  \n",
       "4441        69      92       0     0     900   1020  \n",
       "4442        60      75    3000   600     950   1263  \n",
       "4443        60      90    3500     0     500    963  \n",
       "4444        49     140       0     0     550    550  \n",
       "4445        60     140    4000  1000    1350   1650  \n",
       "\n",
       "[4446 rows x 14 columns]"
      ]
     },
     "execution_count": 53,
     "metadata": {},
     "output_type": "execute_result"
    }
   ],
   "source": [
    "sample_data"
   ]
  },
  {
   "cell_type": "code",
   "execution_count": 54,
   "metadata": {
    "colab": {
     "base_uri": "https://localhost:8080/"
    },
    "id": "_5iSdaKYcuPe",
    "outputId": "59f596fe-0b86-4f93-c874-0169aca5f0c4"
   },
   "outputs": [
    {
     "data": {
      "text/plain": [
       "pandas.core.frame.DataFrame"
      ]
     },
     "execution_count": 54,
     "metadata": {},
     "output_type": "execute_result"
    }
   ],
   "source": [
    "# Checking the type of data\n",
    "type(sample_data)"
   ]
  },
  {
   "cell_type": "code",
   "execution_count": 55,
   "metadata": {
    "colab": {
     "base_uri": "https://localhost:8080/",
     "height": 198
    },
    "id": "my_fV2ShcuPe",
    "outputId": "f1c6695a-078e-479e-a013-4419c51507c4"
   },
   "outputs": [
    {
     "data": {
      "text/html": [
       "<div>\n",
       "<style scoped>\n",
       "    .dataframe tbody tr th:only-of-type {\n",
       "        vertical-align: middle;\n",
       "    }\n",
       "\n",
       "    .dataframe tbody tr th {\n",
       "        vertical-align: top;\n",
       "    }\n",
       "\n",
       "    .dataframe thead th {\n",
       "        text-align: right;\n",
       "    }\n",
       "</style>\n",
       "<table border=\"1\" class=\"dataframe\">\n",
       "  <thead>\n",
       "    <tr style=\"text-align: right;\">\n",
       "      <th></th>\n",
       "      <th>Status</th>\n",
       "      <th>Seniority</th>\n",
       "      <th>Home</th>\n",
       "      <th>Time</th>\n",
       "      <th>Age</th>\n",
       "      <th>Marital</th>\n",
       "      <th>Records</th>\n",
       "      <th>Job</th>\n",
       "      <th>Expenses</th>\n",
       "      <th>Income</th>\n",
       "      <th>Assets</th>\n",
       "      <th>Debt</th>\n",
       "      <th>Amount</th>\n",
       "      <th>Price</th>\n",
       "    </tr>\n",
       "  </thead>\n",
       "  <tbody>\n",
       "    <tr>\n",
       "      <th>0</th>\n",
       "      <td>good</td>\n",
       "      <td>9</td>\n",
       "      <td>rent</td>\n",
       "      <td>60</td>\n",
       "      <td>30</td>\n",
       "      <td>married</td>\n",
       "      <td>no_rec</td>\n",
       "      <td>freelance</td>\n",
       "      <td>73</td>\n",
       "      <td>129</td>\n",
       "      <td>0</td>\n",
       "      <td>0</td>\n",
       "      <td>800</td>\n",
       "      <td>846</td>\n",
       "    </tr>\n",
       "    <tr>\n",
       "      <th>1</th>\n",
       "      <td>good</td>\n",
       "      <td>17</td>\n",
       "      <td>rent</td>\n",
       "      <td>60</td>\n",
       "      <td>58</td>\n",
       "      <td>widow</td>\n",
       "      <td>no_rec</td>\n",
       "      <td>fixed</td>\n",
       "      <td>48</td>\n",
       "      <td>131</td>\n",
       "      <td>0</td>\n",
       "      <td>0</td>\n",
       "      <td>1000</td>\n",
       "      <td>1658</td>\n",
       "    </tr>\n",
       "    <tr>\n",
       "      <th>2</th>\n",
       "      <td>bad</td>\n",
       "      <td>10</td>\n",
       "      <td>owner</td>\n",
       "      <td>36</td>\n",
       "      <td>46</td>\n",
       "      <td>married</td>\n",
       "      <td>yes_rec</td>\n",
       "      <td>freelance</td>\n",
       "      <td>90</td>\n",
       "      <td>200</td>\n",
       "      <td>3000</td>\n",
       "      <td>0</td>\n",
       "      <td>2000</td>\n",
       "      <td>2985</td>\n",
       "    </tr>\n",
       "    <tr>\n",
       "      <th>3</th>\n",
       "      <td>good</td>\n",
       "      <td>0</td>\n",
       "      <td>rent</td>\n",
       "      <td>60</td>\n",
       "      <td>24</td>\n",
       "      <td>single</td>\n",
       "      <td>no_rec</td>\n",
       "      <td>fixed</td>\n",
       "      <td>63</td>\n",
       "      <td>182</td>\n",
       "      <td>2500</td>\n",
       "      <td>0</td>\n",
       "      <td>900</td>\n",
       "      <td>1325</td>\n",
       "    </tr>\n",
       "    <tr>\n",
       "      <th>4</th>\n",
       "      <td>good</td>\n",
       "      <td>0</td>\n",
       "      <td>rent</td>\n",
       "      <td>36</td>\n",
       "      <td>26</td>\n",
       "      <td>single</td>\n",
       "      <td>no_rec</td>\n",
       "      <td>fixed</td>\n",
       "      <td>46</td>\n",
       "      <td>107</td>\n",
       "      <td>0</td>\n",
       "      <td>0</td>\n",
       "      <td>310</td>\n",
       "      <td>910</td>\n",
       "    </tr>\n",
       "  </tbody>\n",
       "</table>\n",
       "</div>"
      ],
      "text/plain": [
       "  Status  Seniority   Home  Time  Age  Marital  Records        Job  Expenses  \\\n",
       "0   good          9   rent    60   30  married   no_rec  freelance        73   \n",
       "1   good         17   rent    60   58    widow   no_rec      fixed        48   \n",
       "2    bad         10  owner    36   46  married  yes_rec  freelance        90   \n",
       "3   good          0   rent    60   24   single   no_rec      fixed        63   \n",
       "4   good          0   rent    36   26   single   no_rec      fixed        46   \n",
       "\n",
       "   Income  Assets  Debt  Amount  Price  \n",
       "0     129       0     0     800    846  \n",
       "1     131       0     0    1000   1658  \n",
       "2     200    3000     0    2000   2985  \n",
       "3     182    2500     0     900   1325  \n",
       "4     107       0     0     310    910  "
      ]
     },
     "execution_count": 55,
     "metadata": {},
     "output_type": "execute_result"
    }
   ],
   "source": [
    "# import matplotlib.pyplot\n",
    "import pandas as pd\n",
    "import matplotlib.pyplot as plt\n",
    "from matplotlib.ticker import FuncFormatter\n",
    "\n",
    "df = pd.read_csv(\"CreditScore.csv\")\n",
    "df.head()"
   ]
  },
  {
   "cell_type": "code",
   "execution_count": 56,
   "metadata": {
    "colab": {
     "base_uri": "https://localhost:8080/"
    },
    "id": "GouzPG8BcuPe",
    "outputId": "152b0128-167b-4bd7-ddfd-606acec45b61"
   },
   "outputs": [
    {
     "name": "stdout",
     "output_type": "stream",
     "text": [
      "  Status  Amount    Price\n",
      "0   good    3197  4662810\n",
      "1    bad    1249  1839378\n"
     ]
    },
    {
     "name": "stderr",
     "output_type": "stream",
     "text": [
      "<ipython-input-56-d5436f6d724d>:1: FutureWarning: Indexing with multiple keys (implicitly converted to a tuple of keys) will be deprecated, use a list instead.\n",
      "  top_10 = (df.groupby('Status')['Amount', 'Price'].agg({'Amount': 'count', 'Price': 'sum'})\n"
     ]
    }
   ],
   "source": [
    "top_10 = (df.groupby('Status')['Amount', 'Price'].agg({'Amount': 'count', 'Price': 'sum'})\n",
    "          .sort_values(by='Amount', ascending=False))[:10].reset_index()\n",
    "top_10.rename(columns={'Status':'Status', 'Amount': 'Amount', 'Price': 'Price'}, inplace=True)\n",
    "print(top_10)"
   ]
  },
  {
   "cell_type": "markdown",
   "metadata": {},
   "source": [
    "# Statistics represent in what amount and how much has been approved:\n",
    "* for good clients was presented in the amount of 3197 earned 46622810\n",
    "* for bad customers was presented in the amount of 1249, earned 1839378"
   ]
  },
  {
   "cell_type": "code",
   "execution_count": 58,
   "metadata": {
    "id": "dsItUdt9cuPe",
    "outputId": "f09e1609-4ef3-4001-a595-8b10fec84a85"
   },
   "outputs": [
    {
     "data": {
      "text/plain": [
       "['Solarize_Light2',\n",
       " '_classic_test_patch',\n",
       " 'bmh',\n",
       " 'classic',\n",
       " 'dark_background',\n",
       " 'fast',\n",
       " 'fivethirtyeight',\n",
       " 'ggplot',\n",
       " 'grayscale',\n",
       " 'seaborn',\n",
       " 'seaborn-bright',\n",
       " 'seaborn-colorblind',\n",
       " 'seaborn-dark',\n",
       " 'seaborn-dark-palette',\n",
       " 'seaborn-darkgrid',\n",
       " 'seaborn-deep',\n",
       " 'seaborn-muted',\n",
       " 'seaborn-notebook',\n",
       " 'seaborn-paper',\n",
       " 'seaborn-pastel',\n",
       " 'seaborn-poster',\n",
       " 'seaborn-talk',\n",
       " 'seaborn-ticks',\n",
       " 'seaborn-white',\n",
       " 'seaborn-whitegrid',\n",
       " 'tableau-colorblind10']"
      ]
     },
     "execution_count": 58,
     "metadata": {},
     "output_type": "execute_result"
    }
   ],
   "source": [
    "# By reason of matplotlib has many different styles available for rendering plots.I can see which ones are available on my system using plt.style.available .\n",
    "plt.style.available"
   ]
  },
  {
   "cell_type": "code",
   "execution_count": 59,
   "metadata": {
    "colab": {
     "base_uri": "https://localhost:8080/",
     "height": 288
    },
    "id": "jb2a5ZhicuPe",
    "outputId": "4a27e6f0-56c8-48ea-d16a-e565af578b92"
   },
   "outputs": [
    {
     "data": {
      "text/html": [
       "<div>\n",
       "<style scoped>\n",
       "    .dataframe tbody tr th:only-of-type {\n",
       "        vertical-align: middle;\n",
       "    }\n",
       "\n",
       "    .dataframe tbody tr th {\n",
       "        vertical-align: top;\n",
       "    }\n",
       "\n",
       "    .dataframe thead th {\n",
       "        text-align: right;\n",
       "    }\n",
       "</style>\n",
       "<table border=\"1\" class=\"dataframe\">\n",
       "  <thead>\n",
       "    <tr style=\"text-align: right;\">\n",
       "      <th></th>\n",
       "      <th>Seniority</th>\n",
       "      <th>Time</th>\n",
       "      <th>Age</th>\n",
       "      <th>Expenses</th>\n",
       "      <th>Income</th>\n",
       "      <th>Assets</th>\n",
       "      <th>Debt</th>\n",
       "      <th>Amount</th>\n",
       "      <th>Price</th>\n",
       "    </tr>\n",
       "  </thead>\n",
       "  <tbody>\n",
       "    <tr>\n",
       "      <th>count</th>\n",
       "      <td>4446.000000</td>\n",
       "      <td>4446.000000</td>\n",
       "      <td>4446.000000</td>\n",
       "      <td>4446.000000</td>\n",
       "      <td>4446.000000</td>\n",
       "      <td>4446.000000</td>\n",
       "      <td>4446.000000</td>\n",
       "      <td>4446.000000</td>\n",
       "      <td>4446.000000</td>\n",
       "    </tr>\n",
       "    <tr>\n",
       "      <th>mean</th>\n",
       "      <td>7.991453</td>\n",
       "      <td>46.453441</td>\n",
       "      <td>37.084121</td>\n",
       "      <td>55.601439</td>\n",
       "      <td>140.629780</td>\n",
       "      <td>5354.948943</td>\n",
       "      <td>342.257085</td>\n",
       "      <td>1038.763383</td>\n",
       "      <td>1462.480432</td>\n",
       "    </tr>\n",
       "    <tr>\n",
       "      <th>std</th>\n",
       "      <td>8.176370</td>\n",
       "      <td>14.647979</td>\n",
       "      <td>10.986366</td>\n",
       "      <td>19.520839</td>\n",
       "      <td>80.177896</td>\n",
       "      <td>11534.328183</td>\n",
       "      <td>1244.694549</td>\n",
       "      <td>474.747952</td>\n",
       "      <td>628.555171</td>\n",
       "    </tr>\n",
       "    <tr>\n",
       "      <th>min</th>\n",
       "      <td>0.000000</td>\n",
       "      <td>6.000000</td>\n",
       "      <td>18.000000</td>\n",
       "      <td>35.000000</td>\n",
       "      <td>1.000000</td>\n",
       "      <td>0.000000</td>\n",
       "      <td>0.000000</td>\n",
       "      <td>100.000000</td>\n",
       "      <td>105.000000</td>\n",
       "    </tr>\n",
       "    <tr>\n",
       "      <th>25%</th>\n",
       "      <td>2.000000</td>\n",
       "      <td>36.000000</td>\n",
       "      <td>28.000000</td>\n",
       "      <td>35.000000</td>\n",
       "      <td>90.000000</td>\n",
       "      <td>0.000000</td>\n",
       "      <td>0.000000</td>\n",
       "      <td>700.000000</td>\n",
       "      <td>1116.250000</td>\n",
       "    </tr>\n",
       "    <tr>\n",
       "      <th>50%</th>\n",
       "      <td>5.000000</td>\n",
       "      <td>48.000000</td>\n",
       "      <td>36.000000</td>\n",
       "      <td>51.000000</td>\n",
       "      <td>124.000000</td>\n",
       "      <td>3000.000000</td>\n",
       "      <td>0.000000</td>\n",
       "      <td>1000.000000</td>\n",
       "      <td>1400.000000</td>\n",
       "    </tr>\n",
       "    <tr>\n",
       "      <th>75%</th>\n",
       "      <td>12.000000</td>\n",
       "      <td>60.000000</td>\n",
       "      <td>45.000000</td>\n",
       "      <td>72.000000</td>\n",
       "      <td>170.000000</td>\n",
       "      <td>6000.000000</td>\n",
       "      <td>0.000000</td>\n",
       "      <td>1300.000000</td>\n",
       "      <td>1691.500000</td>\n",
       "    </tr>\n",
       "    <tr>\n",
       "      <th>max</th>\n",
       "      <td>48.000000</td>\n",
       "      <td>72.000000</td>\n",
       "      <td>68.000000</td>\n",
       "      <td>180.000000</td>\n",
       "      <td>959.000000</td>\n",
       "      <td>300000.000000</td>\n",
       "      <td>30000.000000</td>\n",
       "      <td>5000.000000</td>\n",
       "      <td>11140.000000</td>\n",
       "    </tr>\n",
       "  </tbody>\n",
       "</table>\n",
       "</div>"
      ],
      "text/plain": [
       "         Seniority         Time          Age     Expenses       Income  \\\n",
       "count  4446.000000  4446.000000  4446.000000  4446.000000  4446.000000   \n",
       "mean      7.991453    46.453441    37.084121    55.601439   140.629780   \n",
       "std       8.176370    14.647979    10.986366    19.520839    80.177896   \n",
       "min       0.000000     6.000000    18.000000    35.000000     1.000000   \n",
       "25%       2.000000    36.000000    28.000000    35.000000    90.000000   \n",
       "50%       5.000000    48.000000    36.000000    51.000000   124.000000   \n",
       "75%      12.000000    60.000000    45.000000    72.000000   170.000000   \n",
       "max      48.000000    72.000000    68.000000   180.000000   959.000000   \n",
       "\n",
       "              Assets          Debt       Amount         Price  \n",
       "count    4446.000000   4446.000000  4446.000000   4446.000000  \n",
       "mean     5354.948943    342.257085  1038.763383   1462.480432  \n",
       "std     11534.328183   1244.694549   474.747952    628.555171  \n",
       "min         0.000000      0.000000   100.000000    105.000000  \n",
       "25%         0.000000      0.000000   700.000000   1116.250000  \n",
       "50%      3000.000000      0.000000  1000.000000   1400.000000  \n",
       "75%      6000.000000      0.000000  1300.000000   1691.500000  \n",
       "max    300000.000000  30000.000000  5000.000000  11140.000000  "
      ]
     },
     "execution_count": 59,
     "metadata": {},
     "output_type": "execute_result"
    }
   ],
   "source": [
    "# Summary statistics\n",
    "df.describe()"
   ]
  },
  {
   "cell_type": "markdown",
   "metadata": {},
   "source": [
    "# Statistics\n",
    "statistical data is provided to fully understand the data. given in the table:\n",
    "* Count - total number of clients\n",
    "* Mean -  average value\n",
    "* Std - standart deviation \n",
    "* Min - minimum value\n",
    "* 25%\n",
    "* 50%\n",
    "* 75%\n",
    "* Max - maximum value\n"
   ]
  },
  {
   "cell_type": "code",
   "execution_count": 61,
   "metadata": {
    "id": "pf90VQ5fcuPe",
    "outputId": "7b4e532c-855e-4dab-f8dd-476096c238de"
   },
   "outputs": [
    {
     "data": {
      "text/html": [
       "<div>\n",
       "<style scoped>\n",
       "    .dataframe tbody tr th:only-of-type {\n",
       "        vertical-align: middle;\n",
       "    }\n",
       "\n",
       "    .dataframe tbody tr th {\n",
       "        vertical-align: top;\n",
       "    }\n",
       "\n",
       "    .dataframe thead th {\n",
       "        text-align: right;\n",
       "    }\n",
       "</style>\n",
       "<table border=\"1\" class=\"dataframe\">\n",
       "  <thead>\n",
       "    <tr style=\"text-align: right;\">\n",
       "      <th></th>\n",
       "      <th>Status</th>\n",
       "      <th>Seniority</th>\n",
       "      <th>Home</th>\n",
       "      <th>Time</th>\n",
       "      <th>Age</th>\n",
       "      <th>Marital</th>\n",
       "      <th>Records</th>\n",
       "      <th>Job</th>\n",
       "      <th>Expenses</th>\n",
       "      <th>Income</th>\n",
       "      <th>Assets</th>\n",
       "      <th>Debt</th>\n",
       "      <th>Amount</th>\n",
       "      <th>Price</th>\n",
       "    </tr>\n",
       "  </thead>\n",
       "  <tbody>\n",
       "    <tr>\n",
       "      <th>1887</th>\n",
       "      <td>bad</td>\n",
       "      <td>27</td>\n",
       "      <td>owner</td>\n",
       "      <td>18</td>\n",
       "      <td>47</td>\n",
       "      <td>married</td>\n",
       "      <td>yes_rec</td>\n",
       "      <td>freelance</td>\n",
       "      <td>75</td>\n",
       "      <td>95</td>\n",
       "      <td>148</td>\n",
       "      <td>1</td>\n",
       "      <td>5000</td>\n",
       "      <td>6500</td>\n",
       "    </tr>\n",
       "    <tr>\n",
       "      <th>2683</th>\n",
       "      <td>bad</td>\n",
       "      <td>5</td>\n",
       "      <td>ignore</td>\n",
       "      <td>48</td>\n",
       "      <td>46</td>\n",
       "      <td>married</td>\n",
       "      <td>no_rec</td>\n",
       "      <td>freelance</td>\n",
       "      <td>75</td>\n",
       "      <td>91</td>\n",
       "      <td>6000</td>\n",
       "      <td>0</td>\n",
       "      <td>4500</td>\n",
       "      <td>6222</td>\n",
       "    </tr>\n",
       "    <tr>\n",
       "      <th>2383</th>\n",
       "      <td>bad</td>\n",
       "      <td>3</td>\n",
       "      <td>owner</td>\n",
       "      <td>60</td>\n",
       "      <td>39</td>\n",
       "      <td>married</td>\n",
       "      <td>no_rec</td>\n",
       "      <td>freelance</td>\n",
       "      <td>75</td>\n",
       "      <td>491</td>\n",
       "      <td>90000</td>\n",
       "      <td>0</td>\n",
       "      <td>4000</td>\n",
       "      <td>6700</td>\n",
       "    </tr>\n",
       "    <tr>\n",
       "      <th>3131</th>\n",
       "      <td>bad</td>\n",
       "      <td>10</td>\n",
       "      <td>owner</td>\n",
       "      <td>48</td>\n",
       "      <td>63</td>\n",
       "      <td>married</td>\n",
       "      <td>yes_rec</td>\n",
       "      <td>freelance</td>\n",
       "      <td>35</td>\n",
       "      <td>134</td>\n",
       "      <td>3000</td>\n",
       "      <td>0</td>\n",
       "      <td>4000</td>\n",
       "      <td>4769</td>\n",
       "    </tr>\n",
       "    <tr>\n",
       "      <th>3919</th>\n",
       "      <td>good</td>\n",
       "      <td>0</td>\n",
       "      <td>parents</td>\n",
       "      <td>48</td>\n",
       "      <td>22</td>\n",
       "      <td>single</td>\n",
       "      <td>no_rec</td>\n",
       "      <td>freelance</td>\n",
       "      <td>45</td>\n",
       "      <td>134</td>\n",
       "      <td>0</td>\n",
       "      <td>0</td>\n",
       "      <td>4000</td>\n",
       "      <td>4500</td>\n",
       "    </tr>\n",
       "  </tbody>\n",
       "</table>\n",
       "</div>"
      ],
      "text/plain": [
       "     Status  Seniority     Home  Time  Age  Marital  Records        Job  \\\n",
       "1887    bad         27    owner    18   47  married  yes_rec  freelance   \n",
       "2683    bad          5   ignore    48   46  married   no_rec  freelance   \n",
       "2383    bad          3    owner    60   39  married   no_rec  freelance   \n",
       "3131    bad         10    owner    48   63  married  yes_rec  freelance   \n",
       "3919   good          0  parents    48   22   single   no_rec  freelance   \n",
       "\n",
       "      Expenses  Income  Assets  Debt  Amount  Price  \n",
       "1887        75      95     148     1    5000   6500  \n",
       "2683        75      91    6000     0    4500   6222  \n",
       "2383        75     491   90000     0    4000   6700  \n",
       "3131        35     134    3000     0    4000   4769  \n",
       "3919        45     134       0     0    4000   4500  "
      ]
     },
     "execution_count": 61,
     "metadata": {},
     "output_type": "execute_result"
    }
   ],
   "source": [
    "# Sorting  amuont a variable\n",
    "df_sort = df.sort_values(by = 'Amount', ascending=False).head()\n",
    "df_sort.head()"
   ]
  },
  {
   "cell_type": "markdown",
   "metadata": {},
   "source": [
    "# Amount\n",
    "Dividing the number of loans provided by the amount requested"
   ]
  },
  {
   "cell_type": "markdown",
   "metadata": {
    "id": "Cy1IcyiqcuPe"
   },
   "source": [
    "### The histogram shows the amounts of molney requested by clients from the bank"
   ]
  },
  {
   "cell_type": "code",
   "execution_count": 63,
   "metadata": {
    "colab": {
     "base_uri": "https://localhost:8080/",
     "height": 355
    },
    "id": "G0Oj6GLMcuPe",
    "outputId": "0b1d1c9a-9644-43cd-a0c8-08d9aa8a531f"
   },
   "outputs": [
    {
     "data": {
      "text/plain": [
       "(array([7.060e+02, 1.823e+03, 1.450e+03, 3.770e+02, 5.600e+01, 2.200e+01,\n",
       "        2.000e+00, 8.000e+00, 1.000e+00, 1.000e+00]),\n",
       " array([ 100.,  590., 1080., 1570., 2060., 2550., 3040., 3530., 4020.,\n",
       "        4510., 5000.]),\n",
       " <a list of 10 Patch objects>)"
      ]
     },
     "execution_count": 63,
     "metadata": {},
     "output_type": "execute_result"
    },
    {
     "data": {
      "image/png": "[encoded data removed]",
      "text/plain": [
       "<Figure size 432x288 with 1 Axes>"
      ]
     },
     "metadata": {
      "needs_background": "light"
     },
     "output_type": "display_data"
    }
   ],
   "source": [
    "# Histogram of contineous numbericalvariable\n",
    "num_bins=(1000)\n",
    "plt.hist(df['Amount'])"
   ]
  },
  {
   "cell_type": "markdown",
   "metadata": {
    "id": "3Hm09DQ8cuPe"
   },
   "source": [
    "## This is a chart showing the approximate income from credit"
   ]
  },
  {
   "cell_type": "code",
   "execution_count": 64,
   "metadata": {
    "colab": {
     "base_uri": "https://localhost:8080/",
     "height": 355
    },
    "id": "KI-2pWsIcuPe",
    "outputId": "04cc51ab-ba3b-41a8-ec55-96a76bbbeba6"
   },
   "outputs": [
    {
     "data": {
      "text/plain": [
       "(array([1.333e+03, 2.301e+03, 5.860e+02, 1.530e+02, 4.500e+01, 1.700e+01,\n",
       "        2.000e+00, 4.000e+00, 3.000e+00, 2.000e+00]),\n",
       " array([  1. ,  96.8, 192.6, 288.4, 384.2, 480. , 575.8, 671.6, 767.4,\n",
       "        863.2, 959. ]),\n",
       " <a list of 10 Patch objects>)"
      ]
     },
     "execution_count": 64,
     "metadata": {},
     "output_type": "execute_result"
    },
    {
     "data": {
      "image/png": "[encoded data removed]",
      "text/plain": [
       "<Figure size 432x288 with 1 Axes>"
      ]
     },
     "metadata": {
      "needs_background": "light"
     },
     "output_type": "display_data"
    }
   ],
   "source": [
    "plt.hist(df['Income'])"
   ]
  },
  {
   "cell_type": "code",
   "execution_count": 69,
   "metadata": {
    "id": "2YoGnPsEcuPe"
   },
   "outputs": [],
   "source": [
    "#Count by catagory -cross tabulate\n",
    "credit_dist = df.groupby('Amount').size()"
   ]
  },
  {
   "cell_type": "code",
   "execution_count": 70,
   "metadata": {
    "colab": {
     "base_uri": "https://localhost:8080/"
    },
    "id": "s5uDsDMgcuPf",
    "outputId": "1c83969a-4419-4f47-8594-a0027727dfc2"
   },
   "outputs": [
    {
     "data": {
      "text/plain": [
       "Amount\n",
       "100     5\n",
       "105     1\n",
       "107     1\n",
       "120     1\n",
       "125     3\n",
       "       ..\n",
       "3875    1\n",
       "3900    1\n",
       "4000    4\n",
       "4500    1\n",
       "5000    1\n",
       "Length: 285, dtype: int64"
      ]
     },
     "execution_count": 70,
     "metadata": {},
     "output_type": "execute_result"
    }
   ],
   "source": [
    "credit_dist"
   ]
  },
  {
   "cell_type": "code",
   "execution_count": 71,
   "metadata": {
    "colab": {
     "base_uri": "https://localhost:8080/",
     "height": 198
    },
    "id": "8QbH_tOOcuPf",
    "outputId": "b73b0118-b67f-4d7f-b6b2-3f539e75650c"
   },
   "outputs": [
    {
     "data": {
      "text/html": [
       "<div>\n",
       "<style scoped>\n",
       "    .dataframe tbody tr th:only-of-type {\n",
       "        vertical-align: middle;\n",
       "    }\n",
       "\n",
       "    .dataframe tbody tr th {\n",
       "        vertical-align: top;\n",
       "    }\n",
       "\n",
       "    .dataframe thead th {\n",
       "        text-align: right;\n",
       "    }\n",
       "</style>\n",
       "<table border=\"1\" class=\"dataframe\">\n",
       "  <thead>\n",
       "    <tr style=\"text-align: right;\">\n",
       "      <th></th>\n",
       "      <th>Seniority</th>\n",
       "      <th>Time</th>\n",
       "      <th>Age</th>\n",
       "      <th>Expenses</th>\n",
       "      <th>Income</th>\n",
       "      <th>Assets</th>\n",
       "      <th>Debt</th>\n",
       "      <th>Amount</th>\n",
       "      <th>Price</th>\n",
       "    </tr>\n",
       "  </thead>\n",
       "  <tbody>\n",
       "    <tr>\n",
       "      <th>0</th>\n",
       "      <td>9</td>\n",
       "      <td>60</td>\n",
       "      <td>30</td>\n",
       "      <td>73</td>\n",
       "      <td>129</td>\n",
       "      <td>0</td>\n",
       "      <td>0</td>\n",
       "      <td>800</td>\n",
       "      <td>846</td>\n",
       "    </tr>\n",
       "    <tr>\n",
       "      <th>1</th>\n",
       "      <td>17</td>\n",
       "      <td>60</td>\n",
       "      <td>58</td>\n",
       "      <td>48</td>\n",
       "      <td>131</td>\n",
       "      <td>0</td>\n",
       "      <td>0</td>\n",
       "      <td>1000</td>\n",
       "      <td>1658</td>\n",
       "    </tr>\n",
       "    <tr>\n",
       "      <th>2</th>\n",
       "      <td>10</td>\n",
       "      <td>36</td>\n",
       "      <td>46</td>\n",
       "      <td>90</td>\n",
       "      <td>200</td>\n",
       "      <td>3000</td>\n",
       "      <td>0</td>\n",
       "      <td>2000</td>\n",
       "      <td>2985</td>\n",
       "    </tr>\n",
       "    <tr>\n",
       "      <th>3</th>\n",
       "      <td>0</td>\n",
       "      <td>60</td>\n",
       "      <td>24</td>\n",
       "      <td>63</td>\n",
       "      <td>182</td>\n",
       "      <td>2500</td>\n",
       "      <td>0</td>\n",
       "      <td>900</td>\n",
       "      <td>1325</td>\n",
       "    </tr>\n",
       "    <tr>\n",
       "      <th>4</th>\n",
       "      <td>0</td>\n",
       "      <td>36</td>\n",
       "      <td>26</td>\n",
       "      <td>46</td>\n",
       "      <td>107</td>\n",
       "      <td>0</td>\n",
       "      <td>0</td>\n",
       "      <td>310</td>\n",
       "      <td>910</td>\n",
       "    </tr>\n",
       "  </tbody>\n",
       "</table>\n",
       "</div>"
      ],
      "text/plain": [
       "   Seniority  Time  Age  Expenses  Income  Assets  Debt  Amount  Price\n",
       "0          9    60   30        73     129       0     0     800    846\n",
       "1         17    60   58        48     131       0     0    1000   1658\n",
       "2         10    36   46        90     200    3000     0    2000   2985\n",
       "3          0    60   24        63     182    2500     0     900   1325\n",
       "4          0    36   26        46     107       0     0     310    910"
      ]
     },
     "execution_count": 71,
     "metadata": {},
     "output_type": "execute_result"
    }
   ],
   "source": [
    "# Select all numerical variables\n",
    "df_num = df.select_dtypes(include=['float64','int64'])\n",
    "df_num.head()"
   ]
  },
  {
   "cell_type": "markdown",
   "metadata": {
    "id": "Q99x7Qs3cuPf"
   },
   "source": [
    "## Show data in a histogram"
   ]
  },
  {
   "cell_type": "code",
   "execution_count": 72,
   "metadata": {
    "colab": {
     "base_uri": "https://localhost:8080/",
     "height": 463
    },
    "id": "W9aGHmjkcuPf",
    "outputId": "39443f7d-2b7e-4fa2-b25e-a709ef52602f"
   },
   "outputs": [
    {
     "data": {
      "text/plain": [
       "array([[<matplotlib.axes._subplots.AxesSubplot object at 0x00000238C95E0550>,\n",
       "        <matplotlib.axes._subplots.AxesSubplot object at 0x00000238C96663D0>,\n",
       "        <matplotlib.axes._subplots.AxesSubplot object at 0x00000238C9692820>],\n",
       "       [<matplotlib.axes._subplots.AxesSubplot object at 0x00000238C96BDC70>,\n",
       "        <matplotlib.axes._subplots.AxesSubplot object at 0x00000238C96EC160>,\n",
       "        <matplotlib.axes._subplots.AxesSubplot object at 0x00000238C9723490>],\n",
       "       [<matplotlib.axes._subplots.AxesSubplot object at 0x00000238C9723580>,\n",
       "        <matplotlib.axes._subplots.AxesSubplot object at 0x00000238C9750A30>,\n",
       "        <matplotlib.axes._subplots.AxesSubplot object at 0x00000238C97B8280>]],\n",
       "      dtype=object)"
      ]
     },
     "execution_count": 72,
     "metadata": {},
     "output_type": "execute_result"
    },
    {
     "data": {
      "image/png": "[encoded data removed]",
      "text/plain": [
       "<Figure size 432x288 with 9 Axes>"
      ]
     },
     "metadata": {
      "needs_background": "light"
     },
     "output_type": "display_data"
    }
   ],
   "source": [
    "df_num.hist(bins=20)"
   ]
  },
  {
   "cell_type": "markdown",
   "metadata": {
    "id": "ezLN09JdcuPf"
   },
   "source": [
    "# Description of methodology and methods\n",
    "### Providing the  Trees method (Supervised) learning method\n",
    "A non-parametric approach due to Breiman, Friedman, Olshen and Stone is Classification and Regression Trees (CART) (1984).\n",
    "It is a versatile and effective technique; however it is primarily used in banking practice only as a supporting tool \n",
    "to complement the previously mentioned parametric estimation methods. It serves to pick regressors or features with \n",
    "the highest explanatory capacity, for example, in the method. Binary trees are used in the CART system and a dataset\n",
    "is grouped into a finite number of groups. It was originally designed as a binary response method and as such is suitable \n",
    "for use in credit scoring where data includes default and non-default responses. In subsequent editions of Breiman, Friedman, \n",
    "Olshen and Stone, the CART approach was later refined (1984).\n",
    "The reason of Trees method can be utilized to clean factors, discover parts in shorts of different factors, break information  in fragments, and offer basic bits of knowledge. \n",
    "Likewise it is conceivable to produce countless trees which perform proportionately yet may look endlessly changed. \n",
    "They are ideal for creating straw credit strategies for rule based frameworks for straightforward requirements.\n",
    "As far as demonstrating uncommon occasions like misrepresentation or low default credit portfolios utilizing earlier\n",
    "probabilities to design trees can help improve execution."
   ]
  },
  {
   "cell_type": "markdown",
   "metadata": {
    "id": "TQEOgvzzcuPf"
   },
   "source": [
    "# Trees method"
   ]
  },
  {
   "cell_type": "code",
   "execution_count": 73,
   "metadata": {
    "colab": {
     "base_uri": "https://localhost:8080/"
    },
    "id": "NPLfQ89QcuPf",
    "outputId": "9d4c1af6-23af-4b4c-aa52-870b91a578d8"
   },
   "outputs": [
    {
     "name": "stdout",
     "output_type": "stream",
     "text": [
      "(800, 14)\n",
      "(200, 14)\n"
     ]
    }
   ],
   "source": [
    "from sklearn import datasets\n",
    "from sklearn.model_selection import train_test_split\n",
    "\n",
    "train, test = train_test_split(credit, test_size=0.2)\n",
    "\n",
    "\n",
    "print(train.shape)\n",
    "print(test.shape)"
   ]
  },
  {
   "cell_type": "code",
   "execution_count": null,
   "metadata": {
    "id": "Lm0qkm2IcuPf"
   },
   "outputs": [],
   "source": [
    "# Using all colums to predict accuracy of tree model"
   ]
  },
  {
   "cell_type": "code",
   "execution_count": 74,
   "metadata": {
    "id": "jGtvJb_GcuPf"
   },
   "outputs": [],
   "source": [
    "col_ =[1,2,4,5,13]"
   ]
  },
  {
   "cell_type": "code",
   "execution_count": 75,
   "metadata": {
    "colab": {
     "base_uri": "https://localhost:8080/"
    },
    "id": "KirbqZDBcuPf",
    "outputId": "ec62422a-8715-4ecb-a1ca-07a2adc680d1"
   },
   "outputs": [
    {
     "name": "stdout",
     "output_type": "stream",
     "text": [
      "|--- Seniority <= 2.50\n",
      "|   |--- Home <= 3.50\n",
      "|   |   |--- Age <= 34.50\n",
      "|   |   |   |--- Price <= 1156.50\n",
      "|   |   |   |   |--- Age <= 26.50\n",
      "|   |   |   |   |   |--- Seniority <= 1.50\n",
      "|   |   |   |   |   |   |--- Age <= 21.50\n",
      "|   |   |   |   |   |   |   |--- Seniority <= 0.50\n",
      "|   |   |   |   |   |   |   |   |--- Price <= 960.50\n",
      "|   |   |   |   |   |   |   |   |   |--- class: 0\n",
      "|   |   |   |   |   |   |   |   |--- Price >  960.50\n",
      "|   |   |   |   |   |   |   |   |   |--- class: 1\n",
      "|   |   |   |   |   |   |   |--- Seniority >  0.50\n",
      "|   |   |   |   |   |   |   |   |--- class: 1\n",
      "|   |   |   |   |   |   |--- Age >  21.50\n",
      "|   |   |   |   |   |   |   |--- Price <= 965.00\n",
      "|   |   |   |   |   |   |   |   |--- class: 0\n",
      "|   |   |   |   |   |   |   |--- Price >  965.00\n",
      "|   |   |   |   |   |   |   |   |--- Age <= 24.50\n",
      "|   |   |   |   |   |   |   |   |   |--- Price <= 1083.00\n",
      "|   |   |   |   |   |   |   |   |   |   |--- class: 0\n",
      "|   |   |   |   |   |   |   |   |   |--- Price >  1083.00\n",
      "|   |   |   |   |   |   |   |   |   |   |--- class: 1\n",
      "|   |   |   |   |   |   |   |   |--- Age >  24.50\n",
      "|   |   |   |   |   |   |   |   |   |--- class: 1\n",
      "|   |   |   |   |   |--- Seniority >  1.50\n",
      "|   |   |   |   |   |   |--- class: 1\n",
      "|   |   |   |   |--- Age >  26.50\n",
      "|   |   |   |   |   |--- Age <= 30.50\n",
      "|   |   |   |   |   |   |--- Marital <= 1.50\n",
      "|   |   |   |   |   |   |   |--- Price <= 815.00\n",
      "|   |   |   |   |   |   |   |   |--- class: 0\n",
      "|   |   |   |   |   |   |   |--- Price >  815.00\n",
      "|   |   |   |   |   |   |   |   |--- class: 1\n",
      "|   |   |   |   |   |   |--- Marital >  1.50\n",
      "|   |   |   |   |   |   |   |--- class: 0\n",
      "|   |   |   |   |   |--- Age >  30.50\n",
      "|   |   |   |   |   |   |--- class: 1\n",
      "|   |   |   |--- Price >  1156.50\n",
      "|   |   |   |   |--- Home <= 1.50\n",
      "|   |   |   |   |   |--- Seniority <= 1.50\n",
      "|   |   |   |   |   |   |--- Price <= 1591.00\n",
      "|   |   |   |   |   |   |   |--- class: 0\n",
      "|   |   |   |   |   |   |--- Price >  1591.00\n",
      "|   |   |   |   |   |   |   |--- class: 1\n",
      "|   |   |   |   |   |--- Seniority >  1.50\n",
      "|   |   |   |   |   |   |--- class: 1\n",
      "|   |   |   |   |--- Home >  1.50\n",
      "|   |   |   |   |   |--- Price <= 1430.50\n",
      "|   |   |   |   |   |   |--- Age <= 28.50\n",
      "|   |   |   |   |   |   |   |--- class: 1\n",
      "|   |   |   |   |   |   |--- Age >  28.50\n",
      "|   |   |   |   |   |   |   |--- Age <= 29.50\n",
      "|   |   |   |   |   |   |   |   |--- Home <= 2.50\n",
      "|   |   |   |   |   |   |   |   |   |--- class: 0\n",
      "|   |   |   |   |   |   |   |   |--- Home >  2.50\n",
      "|   |   |   |   |   |   |   |   |   |--- class: 1\n",
      "|   |   |   |   |   |   |   |--- Age >  29.50\n",
      "|   |   |   |   |   |   |   |   |--- class: 1\n",
      "|   |   |   |   |   |--- Price >  1430.50\n",
      "|   |   |   |   |   |   |--- Price <= 1462.50\n",
      "|   |   |   |   |   |   |   |--- class: 0\n",
      "|   |   |   |   |   |   |--- Price >  1462.50\n",
      "|   |   |   |   |   |   |   |--- Price <= 2340.50\n",
      "|   |   |   |   |   |   |   |   |--- Age <= 21.50\n",
      "|   |   |   |   |   |   |   |   |   |--- Price <= 1539.00\n",
      "|   |   |   |   |   |   |   |   |   |   |--- class: 1\n",
      "|   |   |   |   |   |   |   |   |   |--- Price >  1539.00\n",
      "|   |   |   |   |   |   |   |   |   |   |--- Price <= 1662.50\n",
      "|   |   |   |   |   |   |   |   |   |   |   |--- class: 0\n",
      "|   |   |   |   |   |   |   |   |   |   |--- Price >  1662.50\n",
      "|   |   |   |   |   |   |   |   |   |   |   |--- class: 1\n",
      "|   |   |   |   |   |   |   |   |--- Age >  21.50\n",
      "|   |   |   |   |   |   |   |   |   |--- Price <= 1478.00\n",
      "|   |   |   |   |   |   |   |   |   |   |--- class: 0\n",
      "|   |   |   |   |   |   |   |   |   |--- Price >  1478.00\n",
      "|   |   |   |   |   |   |   |   |   |   |--- Price <= 1716.50\n",
      "|   |   |   |   |   |   |   |   |   |   |   |--- class: 1\n",
      "|   |   |   |   |   |   |   |   |   |   |--- Price >  1716.50\n",
      "|   |   |   |   |   |   |   |   |   |   |   |--- truncated branch of depth 5\n",
      "|   |   |   |   |   |   |   |--- Price >  2340.50\n",
      "|   |   |   |   |   |   |   |   |--- Price <= 2925.00\n",
      "|   |   |   |   |   |   |   |   |   |--- class: 0\n",
      "|   |   |   |   |   |   |   |   |--- Price >  2925.00\n",
      "|   |   |   |   |   |   |   |   |   |--- class: 1\n",
      "|   |   |--- Age >  34.50\n",
      "|   |   |   |--- Price <= 1677.50\n",
      "|   |   |   |   |--- Age <= 35.50\n",
      "|   |   |   |   |   |--- Price <= 1618.50\n",
      "|   |   |   |   |   |   |--- class: 0\n",
      "|   |   |   |   |   |--- Price >  1618.50\n",
      "|   |   |   |   |   |   |--- class: 1\n",
      "|   |   |   |   |--- Age >  35.50\n",
      "|   |   |   |   |   |--- Home <= 1.50\n",
      "|   |   |   |   |   |   |--- class: 0\n",
      "|   |   |   |   |   |--- Home >  1.50\n",
      "|   |   |   |   |   |   |--- Price <= 1001.00\n",
      "|   |   |   |   |   |   |   |--- Price <= 826.00\n",
      "|   |   |   |   |   |   |   |   |--- Age <= 61.50\n",
      "|   |   |   |   |   |   |   |   |   |--- Price <= 680.00\n",
      "|   |   |   |   |   |   |   |   |   |   |--- class: 1\n",
      "|   |   |   |   |   |   |   |   |   |--- Price >  680.00\n",
      "|   |   |   |   |   |   |   |   |   |   |--- Price <= 800.50\n",
      "|   |   |   |   |   |   |   |   |   |   |   |--- truncated branch of depth 2\n",
      "|   |   |   |   |   |   |   |   |   |   |--- Price >  800.50\n",
      "|   |   |   |   |   |   |   |   |   |   |   |--- class: 1\n",
      "|   |   |   |   |   |   |   |   |--- Age >  61.50\n",
      "|   |   |   |   |   |   |   |   |   |--- class: 0\n",
      "|   |   |   |   |   |   |   |--- Price >  826.00\n",
      "|   |   |   |   |   |   |   |   |--- class: 0\n",
      "|   |   |   |   |   |   |--- Price >  1001.00\n",
      "|   |   |   |   |   |   |   |--- Seniority <= 0.50\n",
      "|   |   |   |   |   |   |   |   |--- class: 1\n",
      "|   |   |   |   |   |   |   |--- Seniority >  0.50\n",
      "|   |   |   |   |   |   |   |   |--- Age <= 39.50\n",
      "|   |   |   |   |   |   |   |   |   |--- class: 1\n",
      "|   |   |   |   |   |   |   |   |--- Age >  39.50\n",
      "|   |   |   |   |   |   |   |   |   |--- Seniority <= 1.50\n",
      "|   |   |   |   |   |   |   |   |   |   |--- Price <= 1292.00\n",
      "|   |   |   |   |   |   |   |   |   |   |   |--- class: 0\n",
      "|   |   |   |   |   |   |   |   |   |   |--- Price >  1292.00\n",
      "|   |   |   |   |   |   |   |   |   |   |   |--- truncated branch of depth 2\n",
      "|   |   |   |   |   |   |   |   |   |--- Seniority >  1.50\n",
      "|   |   |   |   |   |   |   |   |   |   |--- Age <= 48.50\n",
      "|   |   |   |   |   |   |   |   |   |   |   |--- class: 1\n",
      "|   |   |   |   |   |   |   |   |   |   |--- Age >  48.50\n",
      "|   |   |   |   |   |   |   |   |   |   |   |--- truncated branch of depth 2\n",
      "|   |   |   |--- Price >  1677.50\n",
      "|   |   |   |   |--- Age <= 54.50\n",
      "|   |   |   |   |   |--- Age <= 38.50\n",
      "|   |   |   |   |   |   |--- class: 0\n",
      "|   |   |   |   |   |--- Age >  38.50\n",
      "|   |   |   |   |   |   |--- Marital <= 1.50\n",
      "|   |   |   |   |   |   |   |--- Age <= 40.00\n",
      "|   |   |   |   |   |   |   |   |--- Seniority <= 0.50\n",
      "|   |   |   |   |   |   |   |   |   |--- class: 1\n",
      "|   |   |   |   |   |   |   |   |--- Seniority >  0.50\n",
      "|   |   |   |   |   |   |   |   |   |--- class: 0\n",
      "|   |   |   |   |   |   |   |--- Age >  40.00\n",
      "|   |   |   |   |   |   |   |   |--- Age <= 49.00\n",
      "|   |   |   |   |   |   |   |   |   |--- class: 0\n",
      "|   |   |   |   |   |   |   |   |--- Age >  49.00\n",
      "|   |   |   |   |   |   |   |   |   |--- Age <= 52.00\n",
      "|   |   |   |   |   |   |   |   |   |   |--- class: 1\n",
      "|   |   |   |   |   |   |   |   |   |--- Age >  52.00\n",
      "|   |   |   |   |   |   |   |   |   |   |--- class: 0\n",
      "|   |   |   |   |   |   |--- Marital >  1.50\n",
      "|   |   |   |   |   |   |   |--- class: 1\n",
      "|   |   |   |   |--- Age >  54.50\n",
      "|   |   |   |   |   |--- Age <= 63.50\n",
      "|   |   |   |   |   |   |--- class: 1\n",
      "|   |   |   |   |   |--- Age >  63.50\n",
      "|   |   |   |   |   |   |--- class: 0\n",
      "|   |--- Home >  3.50\n",
      "|   |   |--- Age <= 22.50\n",
      "|   |   |   |--- class: 0\n",
      "|   |   |--- Age >  22.50\n",
      "|   |   |   |--- Price <= 2283.50\n",
      "|   |   |   |   |--- Price <= 1885.50\n",
      "|   |   |   |   |   |--- Price <= 1685.00\n",
      "|   |   |   |   |   |   |--- Seniority <= 1.50\n",
      "|   |   |   |   |   |   |   |--- Price <= 1515.00\n",
      "|   |   |   |   |   |   |   |   |--- Price <= 662.50\n",
      "|   |   |   |   |   |   |   |   |   |--- Age <= 27.50\n",
      "|   |   |   |   |   |   |   |   |   |   |--- class: 1\n",
      "|   |   |   |   |   |   |   |   |   |--- Age >  27.50\n",
      "|   |   |   |   |   |   |   |   |   |   |--- Marital <= 2.50\n",
      "|   |   |   |   |   |   |   |   |   |   |   |--- truncated branch of depth 5\n",
      "|   |   |   |   |   |   |   |   |   |   |--- Marital >  2.50\n",
      "|   |   |   |   |   |   |   |   |   |   |   |--- class: 1\n",
      "|   |   |   |   |   |   |   |   |--- Price >  662.50\n",
      "|   |   |   |   |   |   |   |   |   |--- Price <= 795.00\n",
      "|   |   |   |   |   |   |   |   |   |   |--- class: 0\n",
      "|   |   |   |   |   |   |   |   |   |--- Price >  795.00\n",
      "|   |   |   |   |   |   |   |   |   |   |--- Price <= 948.50\n",
      "|   |   |   |   |   |   |   |   |   |   |   |--- class: 1\n",
      "|   |   |   |   |   |   |   |   |   |   |--- Price >  948.50\n",
      "|   |   |   |   |   |   |   |   |   |   |   |--- truncated branch of depth 7\n",
      "|   |   |   |   |   |   |   |--- Price >  1515.00\n",
      "|   |   |   |   |   |   |   |   |--- Age <= 36.00\n",
      "|   |   |   |   |   |   |   |   |   |--- class: 1\n",
      "|   |   |   |   |   |   |   |   |--- Age >  36.00\n",
      "|   |   |   |   |   |   |   |   |   |--- class: 0\n",
      "|   |   |   |   |   |   |--- Seniority >  1.50\n",
      "|   |   |   |   |   |   |   |--- Price <= 1465.50\n",
      "|   |   |   |   |   |   |   |   |--- Marital <= 1.50\n",
      "|   |   |   |   |   |   |   |   |   |--- Price <= 740.00\n",
      "|   |   |   |   |   |   |   |   |   |   |--- class: 0\n",
      "|   |   |   |   |   |   |   |   |   |--- Price >  740.00\n",
      "|   |   |   |   |   |   |   |   |   |   |--- Price <= 951.50\n",
      "|   |   |   |   |   |   |   |   |   |   |   |--- class: 1\n",
      "|   |   |   |   |   |   |   |   |   |   |--- Price >  951.50\n",
      "|   |   |   |   |   |   |   |   |   |   |   |--- truncated branch of depth 4\n",
      "|   |   |   |   |   |   |   |   |--- Marital >  1.50\n",
      "|   |   |   |   |   |   |   |   |   |--- class: 1\n",
      "|   |   |   |   |   |   |   |--- Price >  1465.50\n",
      "|   |   |   |   |   |   |   |   |--- Price <= 1502.00\n",
      "|   |   |   |   |   |   |   |   |   |--- class: 0\n",
      "|   |   |   |   |   |   |   |   |--- Price >  1502.00\n",
      "|   |   |   |   |   |   |   |   |   |--- Age <= 30.50\n",
      "|   |   |   |   |   |   |   |   |   |   |--- class: 0\n",
      "|   |   |   |   |   |   |   |   |   |--- Age >  30.50\n",
      "|   |   |   |   |   |   |   |   |   |   |--- class: 1\n",
      "|   |   |   |   |   |--- Price >  1685.00\n",
      "|   |   |   |   |   |   |--- Age <= 39.50\n",
      "|   |   |   |   |   |   |   |--- class: 0\n",
      "|   |   |   |   |   |   |--- Age >  39.50\n",
      "|   |   |   |   |   |   |   |--- Seniority <= 1.50\n",
      "|   |   |   |   |   |   |   |   |--- class: 1\n",
      "|   |   |   |   |   |   |   |--- Seniority >  1.50\n",
      "|   |   |   |   |   |   |   |   |--- class: 0\n",
      "|   |   |   |   |--- Price >  1885.50\n",
      "|   |   |   |   |   |--- Age <= 45.50\n",
      "|   |   |   |   |   |   |--- class: 1\n",
      "|   |   |   |   |   |--- Age >  45.50\n",
      "|   |   |   |   |   |   |--- class: 0\n",
      "|   |   |   |--- Price >  2283.50\n",
      "|   |   |   |   |--- class: 0\n",
      "|--- Seniority >  2.50\n",
      "|   |--- Seniority <= 11.50\n",
      "|   |   |--- Home <= 2.50\n",
      "|   |   |   |--- Home <= 1.50\n",
      "|   |   |   |   |--- Price <= 1386.00\n",
      "|   |   |   |   |   |--- Age <= 24.50\n",
      "|   |   |   |   |   |   |--- class: 1\n",
      "|   |   |   |   |   |--- Age >  24.50\n",
      "|   |   |   |   |   |   |--- Age <= 50.00\n",
      "|   |   |   |   |   |   |   |--- class: 0\n",
      "|   |   |   |   |   |   |--- Age >  50.00\n",
      "|   |   |   |   |   |   |   |--- class: 1\n",
      "|   |   |   |   |--- Price >  1386.00\n",
      "|   |   |   |   |   |--- Price <= 1725.00\n",
      "|   |   |   |   |   |   |--- class: 1\n",
      "|   |   |   |   |   |--- Price >  1725.00\n",
      "|   |   |   |   |   |   |--- class: 0\n",
      "|   |   |   |--- Home >  1.50\n",
      "|   |   |   |   |--- Price <= 2849.00\n",
      "|   |   |   |   |   |--- Age <= 47.50\n",
      "|   |   |   |   |   |   |--- Age <= 33.50\n",
      "|   |   |   |   |   |   |   |--- Age <= 25.50\n",
      "|   |   |   |   |   |   |   |   |--- Price <= 1450.50\n",
      "|   |   |   |   |   |   |   |   |   |--- class: 1\n",
      "|   |   |   |   |   |   |   |   |--- Price >  1450.50\n",
      "|   |   |   |   |   |   |   |   |   |--- Age <= 23.50\n",
      "|   |   |   |   |   |   |   |   |   |   |--- class: 0\n",
      "|   |   |   |   |   |   |   |   |   |--- Age >  23.50\n",
      "|   |   |   |   |   |   |   |   |   |   |--- Price <= 1649.50\n",
      "|   |   |   |   |   |   |   |   |   |   |   |--- class: 1\n",
      "|   |   |   |   |   |   |   |   |   |   |--- Price >  1649.50\n",
      "|   |   |   |   |   |   |   |   |   |   |   |--- truncated branch of depth 2\n",
      "|   |   |   |   |   |   |   |--- Age >  25.50\n",
      "|   |   |   |   |   |   |   |   |--- Age <= 31.50\n",
      "|   |   |   |   |   |   |   |   |   |--- class: 1\n",
      "|   |   |   |   |   |   |   |   |--- Age >  31.50\n",
      "|   |   |   |   |   |   |   |   |   |--- Price <= 1579.50\n",
      "|   |   |   |   |   |   |   |   |   |   |--- class: 0\n",
      "|   |   |   |   |   |   |   |   |   |--- Price >  1579.50\n",
      "|   |   |   |   |   |   |   |   |   |   |--- class: 1\n",
      "|   |   |   |   |   |   |--- Age >  33.50\n",
      "|   |   |   |   |   |   |   |--- Age <= 35.50\n",
      "|   |   |   |   |   |   |   |   |--- Price <= 1857.00\n",
      "|   |   |   |   |   |   |   |   |   |--- Price <= 1476.50\n",
      "|   |   |   |   |   |   |   |   |   |   |--- Price <= 1292.00\n",
      "|   |   |   |   |   |   |   |   |   |   |   |--- class: 1\n",
      "|   |   |   |   |   |   |   |   |   |   |--- Price >  1292.00\n",
      "|   |   |   |   |   |   |   |   |   |   |   |--- class: 0\n",
      "|   |   |   |   |   |   |   |   |   |--- Price >  1476.50\n",
      "|   |   |   |   |   |   |   |   |   |   |--- class: 1\n",
      "|   |   |   |   |   |   |   |   |--- Price >  1857.00\n",
      "|   |   |   |   |   |   |   |   |   |--- class: 0\n",
      "|   |   |   |   |   |   |   |--- Age >  35.50\n",
      "|   |   |   |   |   |   |   |   |--- Seniority <= 4.50\n",
      "|   |   |   |   |   |   |   |   |   |--- Price <= 855.00\n",
      "|   |   |   |   |   |   |   |   |   |   |--- Age <= 39.50\n",
      "|   |   |   |   |   |   |   |   |   |   |   |--- class: 1\n",
      "|   |   |   |   |   |   |   |   |   |   |--- Age >  39.50\n",
      "|   |   |   |   |   |   |   |   |   |   |   |--- class: 0\n",
      "|   |   |   |   |   |   |   |   |   |--- Price >  855.00\n",
      "|   |   |   |   |   |   |   |   |   |   |--- Seniority <= 3.50\n",
      "|   |   |   |   |   |   |   |   |   |   |   |--- class: 1\n",
      "|   |   |   |   |   |   |   |   |   |   |--- Seniority >  3.50\n",
      "|   |   |   |   |   |   |   |   |   |   |   |--- truncated branch of depth 4\n",
      "|   |   |   |   |   |   |   |   |--- Seniority >  4.50\n",
      "|   |   |   |   |   |   |   |   |   |--- Price <= 1541.50\n",
      "|   |   |   |   |   |   |   |   |   |   |--- class: 1\n",
      "|   |   |   |   |   |   |   |   |   |--- Price >  1541.50\n",
      "|   |   |   |   |   |   |   |   |   |   |--- Price <= 1652.50\n",
      "|   |   |   |   |   |   |   |   |   |   |   |--- class: 0\n",
      "|   |   |   |   |   |   |   |   |   |   |--- Price >  1652.50\n",
      "|   |   |   |   |   |   |   |   |   |   |   |--- truncated branch of depth 2\n",
      "|   |   |   |   |   |--- Age >  47.50\n",
      "|   |   |   |   |   |   |--- class: 1\n",
      "|   |   |   |   |--- Price >  2849.00\n",
      "|   |   |   |   |   |--- Seniority <= 7.50\n",
      "|   |   |   |   |   |   |--- Price <= 3169.00\n",
      "|   |   |   |   |   |   |   |--- Price <= 3017.50\n",
      "|   |   |   |   |   |   |   |   |--- class: 1\n",
      "|   |   |   |   |   |   |   |--- Price >  3017.50\n",
      "|   |   |   |   |   |   |   |   |--- class: 0\n",
      "|   |   |   |   |   |   |--- Price >  3169.00\n",
      "|   |   |   |   |   |   |   |--- class: 1\n",
      "|   |   |   |   |   |--- Seniority >  7.50\n",
      "|   |   |   |   |   |   |--- class: 0\n",
      "|   |   |--- Home >  2.50\n",
      "|   |   |   |--- Price <= 2215.50\n",
      "|   |   |   |   |--- Price <= 1088.00\n",
      "|   |   |   |   |   |--- Seniority <= 8.50\n",
      "|   |   |   |   |   |   |--- Price <= 375.00\n",
      "|   |   |   |   |   |   |   |--- class: 0\n",
      "|   |   |   |   |   |   |--- Price >  375.00\n",
      "|   |   |   |   |   |   |   |--- Age <= 29.50\n",
      "|   |   |   |   |   |   |   |   |--- class: 1\n",
      "|   |   |   |   |   |   |   |--- Age >  29.50\n",
      "|   |   |   |   |   |   |   |   |--- Age <= 48.00\n",
      "|   |   |   |   |   |   |   |   |   |--- Age <= 44.00\n",
      "|   |   |   |   |   |   |   |   |   |   |--- Price <= 625.00\n",
      "|   |   |   |   |   |   |   |   |   |   |   |--- class: 0\n",
      "|   |   |   |   |   |   |   |   |   |   |--- Price >  625.00\n",
      "|   |   |   |   |   |   |   |   |   |   |   |--- truncated branch of depth 3\n",
      "|   |   |   |   |   |   |   |   |   |--- Age >  44.00\n",
      "|   |   |   |   |   |   |   |   |   |   |--- class: 0\n",
      "|   |   |   |   |   |   |   |   |--- Age >  48.00\n",
      "|   |   |   |   |   |   |   |   |   |--- class: 1\n",
      "|   |   |   |   |   |--- Seniority >  8.50\n",
      "|   |   |   |   |   |   |--- Marital <= 2.00\n",
      "|   |   |   |   |   |   |   |--- Age <= 37.00\n",
      "|   |   |   |   |   |   |   |   |--- class: 1\n",
      "|   |   |   |   |   |   |   |--- Age >  37.00\n",
      "|   |   |   |   |   |   |   |   |--- Price <= 435.00\n",
      "|   |   |   |   |   |   |   |   |   |--- class: 1\n",
      "|   |   |   |   |   |   |   |   |--- Price >  435.00\n",
      "|   |   |   |   |   |   |   |   |   |--- class: 0\n",
      "|   |   |   |   |   |   |--- Marital >  2.00\n",
      "|   |   |   |   |   |   |   |--- class: 0\n",
      "|   |   |   |   |--- Price >  1088.00\n",
      "|   |   |   |   |   |--- Price <= 1213.00\n",
      "|   |   |   |   |   |   |--- Marital <= 2.50\n",
      "|   |   |   |   |   |   |   |--- Age <= 29.50\n",
      "|   |   |   |   |   |   |   |   |--- Price <= 1195.50\n",
      "|   |   |   |   |   |   |   |   |   |--- Age <= 25.50\n",
      "|   |   |   |   |   |   |   |   |   |   |--- class: 0\n",
      "|   |   |   |   |   |   |   |   |   |--- Age >  25.50\n",
      "|   |   |   |   |   |   |   |   |   |   |--- class: 1\n",
      "|   |   |   |   |   |   |   |   |--- Price >  1195.50\n",
      "|   |   |   |   |   |   |   |   |   |--- class: 0\n",
      "|   |   |   |   |   |   |   |--- Age >  29.50\n",
      "|   |   |   |   |   |   |   |   |--- class: 0\n",
      "|   |   |   |   |   |   |--- Marital >  2.50\n",
      "|   |   |   |   |   |   |   |--- class: 1\n",
      "|   |   |   |   |   |--- Price >  1213.00\n",
      "|   |   |   |   |   |   |--- Price <= 2033.50\n",
      "|   |   |   |   |   |   |   |--- Price <= 1801.00\n",
      "|   |   |   |   |   |   |   |   |--- Seniority <= 3.50\n",
      "|   |   |   |   |   |   |   |   |   |--- Price <= 1236.00\n",
      "|   |   |   |   |   |   |   |   |   |   |--- class: 0\n",
      "|   |   |   |   |   |   |   |   |   |--- Price >  1236.00\n",
      "|   |   |   |   |   |   |   |   |   |   |--- class: 1\n",
      "|   |   |   |   |   |   |   |   |--- Seniority >  3.50\n",
      "|   |   |   |   |   |   |   |   |   |--- Age <= 35.50\n",
      "|   |   |   |   |   |   |   |   |   |   |--- Price <= 1744.00\n",
      "|   |   |   |   |   |   |   |   |   |   |   |--- truncated branch of depth 12\n",
      "|   |   |   |   |   |   |   |   |   |   |--- Price >  1744.00\n",
      "|   |   |   |   |   |   |   |   |   |   |   |--- class: 0\n",
      "|   |   |   |   |   |   |   |   |   |--- Age >  35.50\n",
      "|   |   |   |   |   |   |   |   |   |   |--- Price <= 1551.50\n",
      "|   |   |   |   |   |   |   |   |   |   |   |--- truncated branch of depth 5\n",
      "|   |   |   |   |   |   |   |   |   |   |--- Price >  1551.50\n",
      "|   |   |   |   |   |   |   |   |   |   |   |--- class: 1\n",
      "|   |   |   |   |   |   |   |--- Price >  1801.00\n",
      "|   |   |   |   |   |   |   |   |--- class: 0\n",
      "|   |   |   |   |   |   |--- Price >  2033.50\n",
      "|   |   |   |   |   |   |   |--- class: 1\n",
      "|   |   |   |--- Price >  2215.50\n",
      "|   |   |   |   |--- Age <= 32.50\n",
      "|   |   |   |   |   |--- Seniority <= 4.50\n",
      "|   |   |   |   |   |   |--- class: 0\n",
      "|   |   |   |   |   |--- Seniority >  4.50\n",
      "|   |   |   |   |   |   |--- class: 1\n",
      "|   |   |   |   |--- Age >  32.50\n",
      "|   |   |   |   |   |--- class: 0\n",
      "|   |--- Seniority >  11.50\n",
      "|   |   |--- Marital <= 1.50\n",
      "|   |   |   |--- Price <= 521.00\n",
      "|   |   |   |   |--- Price <= 387.50\n",
      "|   |   |   |   |   |--- class: 1\n",
      "|   |   |   |   |--- Price >  387.50\n",
      "|   |   |   |   |   |--- class: 0\n",
      "|   |   |   |--- Price >  521.00\n",
      "|   |   |   |   |--- Price <= 1441.00\n",
      "|   |   |   |   |   |--- Price <= 1436.50\n",
      "|   |   |   |   |   |   |--- Price <= 1348.00\n",
      "|   |   |   |   |   |   |   |--- Age <= 28.00\n",
      "|   |   |   |   |   |   |   |   |--- Price <= 979.00\n",
      "|   |   |   |   |   |   |   |   |   |--- class: 0\n",
      "|   |   |   |   |   |   |   |   |--- Price >  979.00\n",
      "|   |   |   |   |   |   |   |   |   |--- class: 1\n",
      "|   |   |   |   |   |   |   |--- Age >  28.00\n",
      "|   |   |   |   |   |   |   |   |--- Age <= 54.50\n",
      "|   |   |   |   |   |   |   |   |   |--- Seniority <= 17.50\n",
      "|   |   |   |   |   |   |   |   |   |   |--- Price <= 1277.00\n",
      "|   |   |   |   |   |   |   |   |   |   |   |--- truncated branch of depth 3\n",
      "|   |   |   |   |   |   |   |   |   |   |--- Price >  1277.00\n",
      "|   |   |   |   |   |   |   |   |   |   |   |--- truncated branch of depth 2\n",
      "|   |   |   |   |   |   |   |   |   |--- Seniority >  17.50\n",
      "|   |   |   |   |   |   |   |   |   |   |--- class: 1\n",
      "|   |   |   |   |   |   |   |   |--- Age >  54.50\n",
      "|   |   |   |   |   |   |   |   |   |--- Home <= 3.50\n",
      "|   |   |   |   |   |   |   |   |   |   |--- Seniority <= 21.50\n",
      "|   |   |   |   |   |   |   |   |   |   |   |--- truncated branch of depth 5\n",
      "|   |   |   |   |   |   |   |   |   |   |--- Seniority >  21.50\n",
      "|   |   |   |   |   |   |   |   |   |   |   |--- class: 1\n",
      "|   |   |   |   |   |   |   |   |   |--- Home >  3.50\n",
      "|   |   |   |   |   |   |   |   |   |   |--- class: 0\n",
      "|   |   |   |   |   |   |--- Price >  1348.00\n",
      "|   |   |   |   |   |   |   |--- Price <= 1352.50\n",
      "|   |   |   |   |   |   |   |   |--- class: 0\n",
      "|   |   |   |   |   |   |   |--- Price >  1352.50\n",
      "|   |   |   |   |   |   |   |   |--- Home <= 1.50\n",
      "|   |   |   |   |   |   |   |   |   |--- Seniority <= 15.50\n",
      "|   |   |   |   |   |   |   |   |   |   |--- class: 0\n",
      "|   |   |   |   |   |   |   |   |   |--- Seniority >  15.50\n",
      "|   |   |   |   |   |   |   |   |   |   |--- class: 1\n",
      "|   |   |   |   |   |   |   |   |--- Home >  1.50\n",
      "|   |   |   |   |   |   |   |   |   |--- Price <= 1376.50\n",
      "|   |   |   |   |   |   |   |   |   |   |--- Price <= 1372.50\n",
      "|   |   |   |   |   |   |   |   |   |   |   |--- class: 1\n",
      "|   |   |   |   |   |   |   |   |   |   |--- Price >  1372.50\n",
      "|   |   |   |   |   |   |   |   |   |   |   |--- class: 0\n",
      "|   |   |   |   |   |   |   |   |   |--- Price >  1376.50\n",
      "|   |   |   |   |   |   |   |   |   |   |--- class: 1\n",
      "|   |   |   |   |   |--- Price >  1436.50\n",
      "|   |   |   |   |   |   |--- class: 0\n",
      "|   |   |   |   |--- Price >  1441.00\n",
      "|   |   |   |   |   |--- Age <= 55.50\n",
      "|   |   |   |   |   |   |--- Age <= 37.50\n",
      "|   |   |   |   |   |   |   |--- Age <= 33.50\n",
      "|   |   |   |   |   |   |   |   |--- class: 1\n",
      "|   |   |   |   |   |   |   |--- Age >  33.50\n",
      "|   |   |   |   |   |   |   |   |--- Price <= 1690.00\n",
      "|   |   |   |   |   |   |   |   |   |--- Price <= 1636.50\n",
      "|   |   |   |   |   |   |   |   |   |   |--- class: 1\n",
      "|   |   |   |   |   |   |   |   |   |--- Price >  1636.50\n",
      "|   |   |   |   |   |   |   |   |   |   |--- Age <= 35.50\n",
      "|   |   |   |   |   |   |   |   |   |   |   |--- truncated branch of depth 2\n",
      "|   |   |   |   |   |   |   |   |   |   |--- Age >  35.50\n",
      "|   |   |   |   |   |   |   |   |   |   |   |--- class: 0\n",
      "|   |   |   |   |   |   |   |   |--- Price >  1690.00\n",
      "|   |   |   |   |   |   |   |   |   |--- class: 1\n",
      "|   |   |   |   |   |   |--- Age >  37.50\n",
      "|   |   |   |   |   |   |   |--- class: 1\n",
      "|   |   |   |   |   |--- Age >  55.50\n",
      "|   |   |   |   |   |   |--- Price <= 1796.00\n",
      "|   |   |   |   |   |   |   |--- class: 1\n",
      "|   |   |   |   |   |   |--- Price >  1796.00\n",
      "|   |   |   |   |   |   |   |--- Price <= 2049.00\n",
      "|   |   |   |   |   |   |   |   |--- class: 0\n",
      "|   |   |   |   |   |   |   |--- Price >  2049.00\n",
      "|   |   |   |   |   |   |   |   |--- class: 1\n",
      "|   |   |--- Marital >  1.50\n",
      "|   |   |   |--- Home <= 2.50\n",
      "|   |   |   |   |--- Age <= 41.50\n",
      "|   |   |   |   |   |--- Price <= 1428.50\n",
      "|   |   |   |   |   |   |--- Seniority <= 17.50\n",
      "|   |   |   |   |   |   |   |--- class: 1\n",
      "|   |   |   |   |   |   |--- Seniority >  17.50\n",
      "|   |   |   |   |   |   |   |--- class: 0\n",
      "|   |   |   |   |   |--- Price >  1428.50\n",
      "|   |   |   |   |   |   |--- class: 0\n",
      "|   |   |   |   |--- Age >  41.50\n",
      "|   |   |   |   |   |--- Seniority <= 17.00\n",
      "|   |   |   |   |   |   |--- class: 0\n",
      "|   |   |   |   |   |--- Seniority >  17.00\n",
      "|   |   |   |   |   |   |--- class: 1\n",
      "|   |   |   |--- Home >  2.50\n",
      "|   |   |   |   |--- class: 1\n",
      "\n"
     ]
    }
   ],
   "source": [
    "\n",
    "from sklearn import tree\n",
    "from sklearn import datasets\n",
    "from sklearn.preprocessing import LabelEncoder\n",
    "lb_make = LabelEncoder()\n",
    "Y = train.Status\n",
    "X = train.iloc[:, col_]\n",
    "\n",
    "\n",
    "feature_names = list(X.columns)\n",
    "clf = tree.DecisionTreeClassifier()\n",
    "clf = clf.fit(X, Y)\n",
    "\n",
    "r = tree.export_text(clf, feature_names=feature_names)\n",
    "\n",
    "print(r)"
   ]
  },
  {
   "cell_type": "code",
   "execution_count": 76,
   "metadata": {
    "colab": {
     "base_uri": "https://localhost:8080/"
    },
    "id": "vHI5j8UjcuPf",
    "outputId": "34f89c51-d3f1-4049-d6a0-f893e781be9e"
   },
   "outputs": [
    {
     "name": "stdout",
     "output_type": "stream",
     "text": [
      "Accuracy of tree model:  0.675\n"
     ]
    }
   ],
   "source": [
    "from sklearn import metrics\n",
    "Y_test = test.Status\n",
    "X_test = test.iloc[:, col_]\n",
    "\n",
    "Y_tree_pred = clf.predict(X_test)\n",
    "\n",
    "print(\"Accuracy of tree model: \", metrics.accuracy_score(Y_test, Y_tree_pred))"
   ]
  },
  {
   "cell_type": "markdown",
   "metadata": {},
   "source": [
    "# TREES \n",
    "According to this method, our tree provided a branch of probabilities with the best loan provision and showed a frequency of 0.675"
   ]
  },
  {
   "cell_type": "markdown",
   "metadata": {
    "id": "yHGt23MscuPf"
   },
   "source": [
    "# Providing K-mean (Unsupervised) learning methods"
   ]
  },
  {
   "cell_type": "markdown",
   "metadata": {
    "id": "VysaX0OJcuPf"
   },
   "source": [
    "# K-mean"
   ]
  },
  {
   "cell_type": "markdown",
   "metadata": {
    "id": "H_JCqeXGcuPf"
   },
   "source": [
    "## \n",
    "K-Means falls under the category of centroid-based clustering. A centroid is a data point (imaginary or real) at the center of a cluster. In centroid-based clustering, clusters are represented by a central vector or a centroid. This centroid might not necessarily be a member of the dataset. Centroid-based clustering is an iterative algorithm in which the notion of similarity is derived by how close a data point is to the centroid of the cluster.\n",
    "The method helps us transform data into numbers making it easier to predict data"
   ]
  },
  {
   "cell_type": "code",
   "execution_count": 77,
   "metadata": {
    "colab": {
     "base_uri": "https://localhost:8080/"
    },
    "id": "91urPcaZcuPf",
    "outputId": "f46d6086-8306-4b07-994f-98d6650b3b9d"
   },
   "outputs": [
    {
     "data": {
      "text/plain": [
       "array([1, 1, 0, 1, 1, 1, 1, 1, 1, 0, 1, 1, 1, 0, 0, 1, 1, 1, 1, 1, 1, 1,\n",
       "       1, 1, 1, 1, 1, 1, 1, 1, 1, 1, 1, 0, 1, 1, 0, 1, 1, 1, 1, 1, 1, 1,\n",
       "       1, 0, 1, 1, 1, 1, 1, 1, 1, 1, 0, 1, 1, 0, 1, 1, 1, 0, 1, 1, 1, 1,\n",
       "       1, 0, 1, 1, 1, 1, 0, 1, 1, 1, 1, 1, 0, 0, 1, 1, 1, 1, 0, 1, 0, 1,\n",
       "       1, 1, 1, 1, 1, 1, 1, 1, 1, 1, 1, 1, 0, 1, 0, 1, 1, 1, 0, 1, 1, 0,\n",
       "       1, 1, 1, 0, 0, 0, 1, 1, 1, 1, 1, 0, 1, 0, 1, 1, 1, 1, 1, 1, 1, 1,\n",
       "       1, 0, 1, 0, 1, 1, 1, 1, 1, 1, 1, 1, 1, 1, 1, 0, 0, 1, 1, 1, 1, 1,\n",
       "       1, 1, 0, 0, 1, 1, 1, 1, 0, 1, 1, 1, 1, 1, 0, 1, 1, 1, 1, 1, 1, 1,\n",
       "       1, 1, 1, 0, 0, 0, 1, 0, 1, 1, 1, 1, 1, 0, 1, 1, 1, 0, 1, 0, 1, 0,\n",
       "       0, 1, 1, 1, 1, 1, 1, 1, 1, 1, 1, 1, 0, 1, 1, 1, 1, 1, 1, 0, 1, 1,\n",
       "       0, 1, 1, 1, 1, 0, 1, 0, 1, 1, 1, 1, 1, 1, 1, 1, 0, 1, 1, 1, 1, 1,\n",
       "       0, 1, 1, 1, 0, 1, 1, 1, 1, 0, 0, 1, 1, 0, 1, 1, 0, 0, 1, 1, 1, 1,\n",
       "       1, 1, 1, 0, 1, 1, 1, 1, 1, 1, 1, 1, 1, 1, 0, 1, 1, 1, 1, 1, 1, 1,\n",
       "       1, 1, 1, 1, 1, 1, 1, 1, 0, 1, 1, 1, 1, 1, 1, 1, 1, 0, 1, 1, 1, 1,\n",
       "       1, 1, 1, 1, 0, 1, 1, 1, 1, 1, 1, 0, 1, 1, 1, 0, 1, 1, 1, 1, 0, 1,\n",
       "       1, 0, 1, 0, 1, 1, 1, 1, 0, 1, 1, 1, 1, 1, 1, 1, 1, 0, 1, 0, 1, 1,\n",
       "       1, 1, 1, 1, 0, 1, 0, 1, 0, 1, 1, 1, 1, 1, 1, 1, 1, 0, 1, 1, 1, 1,\n",
       "       1, 0, 1, 1, 1, 1, 0, 1, 1, 1, 1, 0, 1, 1, 1, 1, 1, 1, 0, 1, 1, 1,\n",
       "       1, 0, 1, 1, 0, 1, 0, 1, 1, 1, 1, 1, 0, 0, 0, 1, 1, 1, 0, 1, 1, 0,\n",
       "       1, 1, 1, 1, 1, 1, 1, 1, 0, 1, 1, 1, 1, 1, 1, 0, 1, 0, 0, 1, 1, 1,\n",
       "       1, 1, 1, 1, 1, 1, 0, 1, 1, 1, 1, 0, 0, 0, 1, 1, 0, 1, 1, 1, 1, 1,\n",
       "       1, 1, 1, 1, 0, 0, 1, 0, 1, 1, 1, 0, 1, 1, 1, 1, 0, 1, 1, 1, 1, 0,\n",
       "       1, 1, 1, 1, 0, 1, 1, 0, 1, 0, 1, 1, 1, 1, 1, 1, 1, 1, 1, 1, 1, 1,\n",
       "       1, 0, 1, 1, 1, 0, 1, 0, 1, 1, 1, 0, 1, 1, 1, 1, 1, 0, 1, 1, 1, 1,\n",
       "       0, 1, 1, 1, 1, 1, 1, 1, 1, 1, 1, 1, 1, 1, 1, 1, 0, 1, 1, 1, 1, 0,\n",
       "       0, 0, 1, 1, 1, 0, 1, 1, 1, 1, 1, 0, 1, 0, 0, 0, 1, 1, 1, 1, 1, 1,\n",
       "       1, 1, 1, 1, 1, 0, 1, 1, 0, 1, 0, 1, 1, 1, 1, 0, 0, 1, 1, 1, 1, 1,\n",
       "       1, 1, 1, 0, 1, 1, 1, 1, 1, 1, 1, 1, 1, 1, 0, 0, 1, 1, 1, 0, 1, 1,\n",
       "       1, 1, 1, 1, 1, 1, 1, 1, 1, 1, 1, 1, 0, 1, 1, 1, 1, 1, 1, 1, 1, 1,\n",
       "       1, 0, 0, 1, 1, 1, 1, 0, 0, 0, 1, 1, 1, 1, 1, 1, 1, 1, 0, 1, 1, 1,\n",
       "       1, 1, 0, 1, 1, 1, 1, 1, 1, 1, 1, 1, 1, 1, 1, 1, 1, 1, 1, 1, 0, 1,\n",
       "       0, 0, 1, 1, 1, 1, 1, 1, 1, 1, 1, 0, 1, 0, 0, 1, 1, 1, 1, 1, 1, 1,\n",
       "       1, 1, 0, 1, 1, 1, 1, 1, 1, 1, 1, 1, 1, 0, 0, 1, 1, 1, 0, 0, 1, 1,\n",
       "       1, 1, 1, 1, 0, 1, 1, 0, 1, 1, 1, 1, 1, 1, 1, 1, 0, 1, 0, 1, 1, 1,\n",
       "       1, 1, 1, 1, 0, 1, 1, 1, 1, 1, 1, 1, 1, 0, 1, 1, 1, 1, 1, 0, 1, 1,\n",
       "       0, 1, 0, 1, 0, 1, 1, 1, 1, 1, 1, 1, 1, 1, 0, 1, 1, 1, 0, 1, 1, 1,\n",
       "       0, 1, 1, 1, 1, 1, 1, 1])"
      ]
     },
     "execution_count": 77,
     "metadata": {},
     "output_type": "execute_result"
    }
   ],
   "source": [
    "from sklearn.cluster import KMeans\n",
    "\n",
    "kmeans = KMeans(n_clusters=2, random_state=0).fit(X)\n",
    "kmeans.labels_"
   ]
  },
  {
   "cell_type": "code",
   "execution_count": 79,
   "metadata": {},
   "outputs": [
    {
     "ename": "TypeError",
     "evalue": "'KMeans' object is not subscriptable",
     "output_type": "error",
     "traceback": [
      "\u001b[1;31m---------------------------------------------------------------------------\u001b[0m",
      "\u001b[1;31mTypeError\u001b[0m                                 Traceback (most recent call last)",
      "\u001b[1;32m<ipython-input-79-9bdec75b817c>\u001b[0m in \u001b[0;36m<module>\u001b[1;34m\u001b[0m\n\u001b[0;32m      1\u001b[0m \u001b[1;31m#filter rows of original data\u001b[0m\u001b[1;33m\u001b[0m\u001b[1;33m\u001b[0m\u001b[1;33m\u001b[0m\u001b[0m\n\u001b[1;32m----> 2\u001b[1;33m \u001b[0mfiltered_label0\u001b[0m \u001b[1;33m=\u001b[0m \u001b[0mkmeans\u001b[0m\u001b[1;33m[\u001b[0m\u001b[0mkmeans\u001b[0m\u001b[1;33m.\u001b[0m\u001b[0mlabels_\u001b[0m \u001b[1;33m==\u001b[0m \u001b[1;36m0\u001b[0m\u001b[1;33m]\u001b[0m\u001b[1;33m\u001b[0m\u001b[1;33m\u001b[0m\u001b[0m\n\u001b[0m\u001b[0;32m      3\u001b[0m \u001b[1;33m\u001b[0m\u001b[0m\n\u001b[0;32m      4\u001b[0m \u001b[0mfiltered_label1\u001b[0m \u001b[1;33m=\u001b[0m \u001b[0mkmeans\u001b[0m\u001b[1;33m[\u001b[0m\u001b[0mkmeans\u001b[0m\u001b[1;33m.\u001b[0m\u001b[0mlabels_\u001b[0m \u001b[1;33m==\u001b[0m \u001b[1;36m1\u001b[0m\u001b[1;33m]\u001b[0m\u001b[1;33m\u001b[0m\u001b[1;33m\u001b[0m\u001b[0m\n\u001b[0;32m      5\u001b[0m \u001b[1;33m\u001b[0m\u001b[0m\n",
      "\u001b[1;31mTypeError\u001b[0m: 'KMeans' object is not subscriptable"
     ]
    }
   ],
   "source": [
    "#filter rows of original data\n",
    "filtered_label0 = kmeans[kmeans.labels_ == 0]\n",
    " \n",
    "filtered_label1 = kmeans[kmeans.labels_ == 1]\n",
    " \n",
    "#Plotting the results\n",
    "plt.scatter(filtered_label0[:,0] , filtered_label0[:,1] , color = 'red')\n",
    "plt.scatter(filtered_label1[:,0] , filtered_label1[:,1] , color = 'black')\n",
    "plt.show()"
   ]
  },
  {
   "cell_type": "markdown",
   "metadata": {
    "id": "o9K3imuccuPg"
   },
   "source": [
    "### The accuracy of the data shows that the first method is more effective and more accurate (i.e. more chances of approving a loan)"
   ]
  },
  {
   "cell_type": "code",
   "execution_count": 80,
   "metadata": {
    "colab": {
     "base_uri": "https://localhost:8080/"
    },
    "id": "1NifdXjKcuPg",
    "outputId": "5723888d-ee6a-419d-8bc9-99e69dcc0035"
   },
   "outputs": [
    {
     "name": "stdout",
     "output_type": "stream",
     "text": [
      "Accuracy of K-mean model:  0.655\n",
      "Accuracy of tree model:  0.675\n",
      "      Seniority  Home  Age  Marital  Price\n",
      "1272          3     5   34        3    921\n",
      "393          15     2   44        1   1450\n",
      "3982          6     5   38        1   1303\n",
      "1094          1     2   28        1   1695\n",
      "216           4     4   31        1   1218\n",
      "...         ...   ...  ...      ...    ...\n",
      "4295          2     5   27        1    650\n",
      "1540         40     2   60        1   1308\n",
      "769          14     1   41        1   1200\n",
      "1720          0     1   43        1   1544\n",
      "290           6     2   42        1   1513\n",
      "\n",
      "[200 rows x 5 columns]\n"
     ]
    }
   ],
   "source": [
    "Y_kmean_pred = kmeans.predict(X_test)\n",
    "print(\"Accuracy of K-mean model: \", metrics.accuracy_score(Y_test, Y_kmean_pred))\n",
    "print(\"Accuracy of tree model: \", metrics.accuracy_score(Y_test, Y_tree_pred))\n",
    "print(X_test)"
   ]
  },
  {
   "cell_type": "code",
   "execution_count": null,
   "metadata": {
    "colab": {
     "base_uri": "https://localhost:8080/",
     "height": 268
    },
    "id": "VoMr7PHvnmOF",
    "outputId": "fc09d50d-82e7-4b8f-ee1f-a150803743d4"
   },
   "outputs": [
    {
     "data": {
      "image/png": "[encoded data removed]",
      "text/plain": [
       "<Figure size 432x288 with 1 Axes>"
      ]
     },
     "metadata": {
      "needs_background": "light",
      "tags": []
     },
     "output_type": "display_data"
    }
   ],
   "source": [
    "#filter rows of original data\n",
    "filtered_label0 = X_test[Y_kmean_pred == 0]\n",
    " \n",
    "filtered_label1 = X_test[Y_kmean_pred == 1]\n",
    " \n",
    "#Plotting the results: Age and Price\n",
    "plt.scatter(filtered_label0.iloc[:,-1] , filtered_label0.iloc[:,2] , color = 'black')\n",
    "plt.scatter(filtered_label1.iloc[:,-1] , filtered_label1.iloc[:,2] , color = 'red')\n",
    "plt.show()"
   ]
  },
  {
   "cell_type": "code",
   "execution_count": null,
   "metadata": {},
   "outputs": [],
   "source": [
    "# K-mean \n",
    "thanks to this graph, we can see visually who the loan is given."
   ]
  },
  {
   "cell_type": "markdown",
   "metadata": {
    "id": "66rQVpRjcuPg"
   },
   "source": [
    "### Here is a visual comparison of the methods.\n",
    "One person was taken from the available data, who is awaiting approval in the loan, and based on these methods, such a result was obtained. \n",
    "In the first method, his application was approved when in the second method, his application was rejected."
   ]
  },
  {
   "cell_type": "code",
   "execution_count": 81,
   "metadata": {
    "id": "uDLbgSKMcuPg",
    "outputId": "c580a2fe-2bbf-4cdb-86cc-b5510305f728"
   },
   "outputs": [
    {
     "name": "stdout",
     "output_type": "stream",
     "text": [
      "Status of a_man by tree model is:  1\n",
      "Status of a_man by K-mean model is:  1\n"
     ]
    }
   ],
   "source": [
    "a_man = credit.iloc[0, :]\n",
    "\n",
    "a_man = pd.DataFrame(data=[list(a_man)],columns= list(a_man.index))\n",
    "\n",
    "X_man = a_man.iloc[:, col_]\n",
    "\n",
    "print(\"Status of a_man by tree model is: \", clf.predict(X_man)[0])\n",
    "print(\"Status of a_man by K-mean model is: \", kmeans.predict(X_man)[0])"
   ]
  },
  {
   "cell_type": "markdown",
   "metadata": {
    "id": "4t1yVpjicuPg"
   },
   "source": [
    "## Total number of approved and rejected credits"
   ]
  },
  {
   "cell_type": "code",
   "execution_count": 89,
   "metadata": {
    "id": "qCYAbiS7cuPg"
   },
   "outputs": [],
   "source": [
    "#Count by catagory -cross tabulate\n",
    "credit_dist = df.groupby('Status').size()"
   ]
  },
  {
   "cell_type": "code",
   "execution_count": 90,
   "metadata": {
    "id": "4RBmhM-3cuPg",
    "outputId": "15dcddea-74e4-49cf-bd18-13ce7547e81b"
   },
   "outputs": [
    {
     "data": {
      "text/plain": [
       "Status\n",
       "bad     1249\n",
       "good    3197\n",
       "dtype: int64"
      ]
     },
     "execution_count": 90,
     "metadata": {},
     "output_type": "execute_result"
    }
   ],
   "source": [
    "credit_dist"
   ]
  },
  {
   "cell_type": "markdown",
   "metadata": {},
   "source": [
    "# Conclusion "
   ]
  },
  {
   "cell_type": "markdown",
   "metadata": {},
   "source": [
    "# \n",
    "We have identified the most common methods used in the process of credit scoring of retail loan applicants in this project. Our analysis focuses on the most important methods that relate to their use in bank practice. Most local banks use models based on the logit equation, which is an extension of linear discriminant analysis, which is very tractable and convenient, according to personal analysis. Other approaches, such as CART or neural networks, are primarily used as support tools, either in the variable selection process or in the model quality assessment process. The k-mean approach that is known is not used at all or is used very rarely. As the alternative (nonparametric) approaches have excellent potential for pattern detection, these facts are very surprising."
   ]
  }
 ],
 "metadata": {
  "colab": {
   "name": "Final project.ipynb",
   "provenance": []
  },
  "kernelspec": {
   "display_name": "Python 3",
   "language": "python",
   "name": "python3"
  },
  "language_info": {
   "codemirror_mode": {
    "name": "ipython",
    "version": 3
   },
   "file_extension": ".py",
   "mimetype": "text/x-python",
   "name": "python",
   "nbconvert_exporter": "python",
   "pygments_lexer": "ipython3",
   "version": "3.8.3"
  }
 },
 "nbformat": 4,
 "nbformat_minor": 1
}
